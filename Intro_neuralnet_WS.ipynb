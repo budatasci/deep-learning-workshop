{
  "nbformat": 4,
  "nbformat_minor": 0,
  "metadata": {
    "colab": {
      "provenance": []
    },
    "kernelspec": {
      "name": "python3",
      "display_name": "Python 3"
    },
    "language_info": {
      "name": "python"
    }
  },
  "cells": [
    {
      "cell_type": "markdown",
      "source": [
        "# Introduction to Neural Networks for Regressions\n",
        "1. Exploratory data analysis\n",
        "2. Data preprocessing\n",
        "3. Modeling\n",
        "4. Evaluating / deploying"
      ],
      "metadata": {
        "id": "wocbos9pSViU"
      }
    },
    {
      "cell_type": "markdown",
      "source": [
        "# Data Background\n",
        "\n",
        "The [data](http://lib.stat.cmu.edu/datasets/boston) was drawn from the Boston Standard Metropolitan Statistical Area (SMSA) in 1970. \n",
        "\n",
        "The attributes are deﬁned as follows:\n",
        "\n",
        "```\n",
        "  CRIM: per capita crime rate by town.\n",
        "  ZN: proportion of residential land zoned for lots over 25,000 sq.ft.\n",
        "  INDUS: proportion of non-retail business acres per town\n",
        "  CHAS: Charles River dummy variable (= 1 if tract bounds river; 0 otherwise)\n",
        "  NOX: nitric oxides concentration (parts per 10 million)\n",
        "  RM: average number of rooms per dwelling\n",
        "  AGE: proportion of owner-occupied units built prior to 1940\n",
        "  DIS: weighted distances to ﬁve Boston employment centers\n",
        "  RAD: index of accessibility to radial highways\n",
        "  TAX: full-value property-tax rate per $10,000\n",
        "  PTRATIO: pupil-teacher ratio by town 12. \n",
        "  B: 1000(Bk−0.63)^2 where Bk is the proportion of blacks by town 13. \n",
        "  LSTAT: % lower status of the population\n",
        "  MEDV: Median value of owner-occupied homes in $1000s\n",
        "```"
      ],
      "metadata": {
        "id": "9GYVIkop52IO"
      }
    },
    {
      "cell_type": "code",
      "execution_count": 1,
      "metadata": {
        "colab": {
          "base_uri": "https://localhost:8080/",
          "height": 206
        },
        "id": "jOUNSIyDQ4B8",
        "outputId": "9fa95fdc-6427-4e2d-ccd5-1942822ac34e"
      },
      "outputs": [
        {
          "output_type": "execute_result",
          "data": {
            "text/plain": [
              "      CRIM    ZN  INDUS  CHAS    NOX     RM   AGE     DIS  RAD    TAX  \\\n",
              "0  0.00632  18.0   2.31     0  0.538  6.575  65.2  4.0900    1  296.0   \n",
              "1  0.02731   0.0   7.07     0  0.469  6.421  78.9  4.9671    2  242.0   \n",
              "2  0.02729   0.0   7.07     0  0.469  7.185  61.1  4.9671    2  242.0   \n",
              "3  0.03237   0.0   2.18     0  0.458  6.998  45.8  6.0622    3  222.0   \n",
              "4  0.06905   0.0   2.18     0  0.458  7.147  54.2  6.0622    3  222.0   \n",
              "\n",
              "   PTRATIO       B  LSTAT  MEDV  \n",
              "0     15.3  396.90   4.98  24.0  \n",
              "1     17.8  396.90   9.14  21.6  \n",
              "2     17.8  392.83   4.03  34.7  \n",
              "3     18.7  394.63   2.94  33.4  \n",
              "4     18.7  396.90   5.33  36.2  "
            ],
            "text/html": [
              "\n",
              "  <div id=\"df-3fa5a47f-3374-40ca-8b62-f43899f83feb\">\n",
              "    <div class=\"colab-df-container\">\n",
              "      <div>\n",
              "<style scoped>\n",
              "    .dataframe tbody tr th:only-of-type {\n",
              "        vertical-align: middle;\n",
              "    }\n",
              "\n",
              "    .dataframe tbody tr th {\n",
              "        vertical-align: top;\n",
              "    }\n",
              "\n",
              "    .dataframe thead th {\n",
              "        text-align: right;\n",
              "    }\n",
              "</style>\n",
              "<table border=\"1\" class=\"dataframe\">\n",
              "  <thead>\n",
              "    <tr style=\"text-align: right;\">\n",
              "      <th></th>\n",
              "      <th>CRIM</th>\n",
              "      <th>ZN</th>\n",
              "      <th>INDUS</th>\n",
              "      <th>CHAS</th>\n",
              "      <th>NOX</th>\n",
              "      <th>RM</th>\n",
              "      <th>AGE</th>\n",
              "      <th>DIS</th>\n",
              "      <th>RAD</th>\n",
              "      <th>TAX</th>\n",
              "      <th>PTRATIO</th>\n",
              "      <th>B</th>\n",
              "      <th>LSTAT</th>\n",
              "      <th>MEDV</th>\n",
              "    </tr>\n",
              "  </thead>\n",
              "  <tbody>\n",
              "    <tr>\n",
              "      <th>0</th>\n",
              "      <td>0.00632</td>\n",
              "      <td>18.0</td>\n",
              "      <td>2.31</td>\n",
              "      <td>0</td>\n",
              "      <td>0.538</td>\n",
              "      <td>6.575</td>\n",
              "      <td>65.2</td>\n",
              "      <td>4.0900</td>\n",
              "      <td>1</td>\n",
              "      <td>296.0</td>\n",
              "      <td>15.3</td>\n",
              "      <td>396.90</td>\n",
              "      <td>4.98</td>\n",
              "      <td>24.0</td>\n",
              "    </tr>\n",
              "    <tr>\n",
              "      <th>1</th>\n",
              "      <td>0.02731</td>\n",
              "      <td>0.0</td>\n",
              "      <td>7.07</td>\n",
              "      <td>0</td>\n",
              "      <td>0.469</td>\n",
              "      <td>6.421</td>\n",
              "      <td>78.9</td>\n",
              "      <td>4.9671</td>\n",
              "      <td>2</td>\n",
              "      <td>242.0</td>\n",
              "      <td>17.8</td>\n",
              "      <td>396.90</td>\n",
              "      <td>9.14</td>\n",
              "      <td>21.6</td>\n",
              "    </tr>\n",
              "    <tr>\n",
              "      <th>2</th>\n",
              "      <td>0.02729</td>\n",
              "      <td>0.0</td>\n",
              "      <td>7.07</td>\n",
              "      <td>0</td>\n",
              "      <td>0.469</td>\n",
              "      <td>7.185</td>\n",
              "      <td>61.1</td>\n",
              "      <td>4.9671</td>\n",
              "      <td>2</td>\n",
              "      <td>242.0</td>\n",
              "      <td>17.8</td>\n",
              "      <td>392.83</td>\n",
              "      <td>4.03</td>\n",
              "      <td>34.7</td>\n",
              "    </tr>\n",
              "    <tr>\n",
              "      <th>3</th>\n",
              "      <td>0.03237</td>\n",
              "      <td>0.0</td>\n",
              "      <td>2.18</td>\n",
              "      <td>0</td>\n",
              "      <td>0.458</td>\n",
              "      <td>6.998</td>\n",
              "      <td>45.8</td>\n",
              "      <td>6.0622</td>\n",
              "      <td>3</td>\n",
              "      <td>222.0</td>\n",
              "      <td>18.7</td>\n",
              "      <td>394.63</td>\n",
              "      <td>2.94</td>\n",
              "      <td>33.4</td>\n",
              "    </tr>\n",
              "    <tr>\n",
              "      <th>4</th>\n",
              "      <td>0.06905</td>\n",
              "      <td>0.0</td>\n",
              "      <td>2.18</td>\n",
              "      <td>0</td>\n",
              "      <td>0.458</td>\n",
              "      <td>7.147</td>\n",
              "      <td>54.2</td>\n",
              "      <td>6.0622</td>\n",
              "      <td>3</td>\n",
              "      <td>222.0</td>\n",
              "      <td>18.7</td>\n",
              "      <td>396.90</td>\n",
              "      <td>5.33</td>\n",
              "      <td>36.2</td>\n",
              "    </tr>\n",
              "  </tbody>\n",
              "</table>\n",
              "</div>\n",
              "      <button class=\"colab-df-convert\" onclick=\"convertToInteractive('df-3fa5a47f-3374-40ca-8b62-f43899f83feb')\"\n",
              "              title=\"Convert this dataframe to an interactive table.\"\n",
              "              style=\"display:none;\">\n",
              "        \n",
              "  <svg xmlns=\"http://www.w3.org/2000/svg\" height=\"24px\"viewBox=\"0 0 24 24\"\n",
              "       width=\"24px\">\n",
              "    <path d=\"M0 0h24v24H0V0z\" fill=\"none\"/>\n",
              "    <path d=\"M18.56 5.44l.94 2.06.94-2.06 2.06-.94-2.06-.94-.94-2.06-.94 2.06-2.06.94zm-11 1L8.5 8.5l.94-2.06 2.06-.94-2.06-.94L8.5 2.5l-.94 2.06-2.06.94zm10 10l.94 2.06.94-2.06 2.06-.94-2.06-.94-.94-2.06-.94 2.06-2.06.94z\"/><path d=\"M17.41 7.96l-1.37-1.37c-.4-.4-.92-.59-1.43-.59-.52 0-1.04.2-1.43.59L10.3 9.45l-7.72 7.72c-.78.78-.78 2.05 0 2.83L4 21.41c.39.39.9.59 1.41.59.51 0 1.02-.2 1.41-.59l7.78-7.78 2.81-2.81c.8-.78.8-2.07 0-2.86zM5.41 20L4 18.59l7.72-7.72 1.47 1.35L5.41 20z\"/>\n",
              "  </svg>\n",
              "      </button>\n",
              "      \n",
              "  <style>\n",
              "    .colab-df-container {\n",
              "      display:flex;\n",
              "      flex-wrap:wrap;\n",
              "      gap: 12px;\n",
              "    }\n",
              "\n",
              "    .colab-df-convert {\n",
              "      background-color: #E8F0FE;\n",
              "      border: none;\n",
              "      border-radius: 50%;\n",
              "      cursor: pointer;\n",
              "      display: none;\n",
              "      fill: #1967D2;\n",
              "      height: 32px;\n",
              "      padding: 0 0 0 0;\n",
              "      width: 32px;\n",
              "    }\n",
              "\n",
              "    .colab-df-convert:hover {\n",
              "      background-color: #E2EBFA;\n",
              "      box-shadow: 0px 1px 2px rgba(60, 64, 67, 0.3), 0px 1px 3px 1px rgba(60, 64, 67, 0.15);\n",
              "      fill: #174EA6;\n",
              "    }\n",
              "\n",
              "    [theme=dark] .colab-df-convert {\n",
              "      background-color: #3B4455;\n",
              "      fill: #D2E3FC;\n",
              "    }\n",
              "\n",
              "    [theme=dark] .colab-df-convert:hover {\n",
              "      background-color: #434B5C;\n",
              "      box-shadow: 0px 1px 3px 1px rgba(0, 0, 0, 0.15);\n",
              "      filter: drop-shadow(0px 1px 2px rgba(0, 0, 0, 0.3));\n",
              "      fill: #FFFFFF;\n",
              "    }\n",
              "  </style>\n",
              "\n",
              "      <script>\n",
              "        const buttonEl =\n",
              "          document.querySelector('#df-3fa5a47f-3374-40ca-8b62-f43899f83feb button.colab-df-convert');\n",
              "        buttonEl.style.display =\n",
              "          google.colab.kernel.accessAllowed ? 'block' : 'none';\n",
              "\n",
              "        async function convertToInteractive(key) {\n",
              "          const element = document.querySelector('#df-3fa5a47f-3374-40ca-8b62-f43899f83feb');\n",
              "          const dataTable =\n",
              "            await google.colab.kernel.invokeFunction('convertToInteractive',\n",
              "                                                     [key], {});\n",
              "          if (!dataTable) return;\n",
              "\n",
              "          const docLinkHtml = 'Like what you see? Visit the ' +\n",
              "            '<a target=\"_blank\" href=https://colab.research.google.com/notebooks/data_table.ipynb>data table notebook</a>'\n",
              "            + ' to learn more about interactive tables.';\n",
              "          element.innerHTML = '';\n",
              "          dataTable['output_type'] = 'display_data';\n",
              "          await google.colab.output.renderOutput(dataTable, element);\n",
              "          const docLink = document.createElement('div');\n",
              "          docLink.innerHTML = docLinkHtml;\n",
              "          element.appendChild(docLink);\n",
              "        }\n",
              "      </script>\n",
              "    </div>\n",
              "  </div>\n",
              "  "
            ]
          },
          "metadata": {},
          "execution_count": 1
        }
      ],
      "source": [
        "import pandas as pd\n",
        "\n",
        "df = pd.read_csv(\"https://raw.githubusercontent.com/budatasci/deep-learning-workshop/main/slides-and-data/boston.csv\")\n",
        "df.head()"
      ]
    },
    {
      "cell_type": "code",
      "source": [
        "print(df.shape)"
      ],
      "metadata": {
        "colab": {
          "base_uri": "https://localhost:8080/"
        },
        "id": "6YTYJ8M4RHKx",
        "outputId": "d4c61a7e-3eee-42b2-e52a-58bd1c499082"
      },
      "execution_count": 2,
      "outputs": [
        {
          "output_type": "stream",
          "name": "stdout",
          "text": [
            "(506, 14)\n"
          ]
        }
      ]
    },
    {
      "cell_type": "markdown",
      "source": [
        "# Simple EDA"
      ],
      "metadata": {
        "id": "i-80kIK0SHch"
      }
    },
    {
      "cell_type": "markdown",
      "source": [
        "We will tranform our data using standardization: $ z = \\frac{x-\\mu}{\\sigma} $"
      ],
      "metadata": {
        "id": "4x_612BSfRkF"
      }
    },
    {
      "cell_type": "code",
      "source": [
        "# standardization\n",
        "\n",
        "df_plot = df.copy()\n",
        "mean = df_plot.mean(axis=0) # 0=sum up all the row, 1=col\n",
        "std = df_plot.std(axis=0)\n",
        "\n",
        "df_plot = df_plot - mean \n",
        "df_plot = df_plot/std\n",
        "df_plot.head() # standardized"
      ],
      "metadata": {
        "id": "jvnsBcHORU0q",
        "colab": {
          "base_uri": "https://localhost:8080/",
          "height": 206
        },
        "outputId": "4db9b8d0-2985-4d1b-b51a-a147665e1783"
      },
      "execution_count": 3,
      "outputs": [
        {
          "output_type": "execute_result",
          "data": {
            "text/plain": [
              "       CRIM        ZN     INDUS      CHAS       NOX        RM       AGE  \\\n",
              "0 -0.419367  0.284548 -1.286636 -0.272329 -0.144075  0.413263 -0.119895   \n",
              "1 -0.416927 -0.487240 -0.592794 -0.272329 -0.739530  0.194082  0.366803   \n",
              "2 -0.416929 -0.487240 -0.592794 -0.272329 -0.739530  1.281446 -0.265549   \n",
              "3 -0.416338 -0.487240 -1.305586 -0.272329 -0.834458  1.015298 -0.809088   \n",
              "4 -0.412074 -0.487240 -1.305586 -0.272329 -0.834458  1.227362 -0.510674   \n",
              "\n",
              "        DIS       RAD       TAX   PTRATIO         B     LSTAT      MEDV  \n",
              "0  0.140075 -0.981871 -0.665949 -1.457558  0.440616 -1.074499  0.159528  \n",
              "1  0.556609 -0.867024 -0.986353 -0.302794  0.440616 -0.491953 -0.101424  \n",
              "2  0.556609 -0.867024 -0.986353 -0.302794  0.396035 -1.207532  1.322937  \n",
              "3  1.076671 -0.752178 -1.105022  0.112920  0.415751 -1.360171  1.181589  \n",
              "4  1.076671 -0.752178 -1.105022  0.112920  0.440616 -1.025487  1.486032  "
            ],
            "text/html": [
              "\n",
              "  <div id=\"df-05fbdbb5-9229-4e53-b2f3-ac263b1ab6af\">\n",
              "    <div class=\"colab-df-container\">\n",
              "      <div>\n",
              "<style scoped>\n",
              "    .dataframe tbody tr th:only-of-type {\n",
              "        vertical-align: middle;\n",
              "    }\n",
              "\n",
              "    .dataframe tbody tr th {\n",
              "        vertical-align: top;\n",
              "    }\n",
              "\n",
              "    .dataframe thead th {\n",
              "        text-align: right;\n",
              "    }\n",
              "</style>\n",
              "<table border=\"1\" class=\"dataframe\">\n",
              "  <thead>\n",
              "    <tr style=\"text-align: right;\">\n",
              "      <th></th>\n",
              "      <th>CRIM</th>\n",
              "      <th>ZN</th>\n",
              "      <th>INDUS</th>\n",
              "      <th>CHAS</th>\n",
              "      <th>NOX</th>\n",
              "      <th>RM</th>\n",
              "      <th>AGE</th>\n",
              "      <th>DIS</th>\n",
              "      <th>RAD</th>\n",
              "      <th>TAX</th>\n",
              "      <th>PTRATIO</th>\n",
              "      <th>B</th>\n",
              "      <th>LSTAT</th>\n",
              "      <th>MEDV</th>\n",
              "    </tr>\n",
              "  </thead>\n",
              "  <tbody>\n",
              "    <tr>\n",
              "      <th>0</th>\n",
              "      <td>-0.419367</td>\n",
              "      <td>0.284548</td>\n",
              "      <td>-1.286636</td>\n",
              "      <td>-0.272329</td>\n",
              "      <td>-0.144075</td>\n",
              "      <td>0.413263</td>\n",
              "      <td>-0.119895</td>\n",
              "      <td>0.140075</td>\n",
              "      <td>-0.981871</td>\n",
              "      <td>-0.665949</td>\n",
              "      <td>-1.457558</td>\n",
              "      <td>0.440616</td>\n",
              "      <td>-1.074499</td>\n",
              "      <td>0.159528</td>\n",
              "    </tr>\n",
              "    <tr>\n",
              "      <th>1</th>\n",
              "      <td>-0.416927</td>\n",
              "      <td>-0.487240</td>\n",
              "      <td>-0.592794</td>\n",
              "      <td>-0.272329</td>\n",
              "      <td>-0.739530</td>\n",
              "      <td>0.194082</td>\n",
              "      <td>0.366803</td>\n",
              "      <td>0.556609</td>\n",
              "      <td>-0.867024</td>\n",
              "      <td>-0.986353</td>\n",
              "      <td>-0.302794</td>\n",
              "      <td>0.440616</td>\n",
              "      <td>-0.491953</td>\n",
              "      <td>-0.101424</td>\n",
              "    </tr>\n",
              "    <tr>\n",
              "      <th>2</th>\n",
              "      <td>-0.416929</td>\n",
              "      <td>-0.487240</td>\n",
              "      <td>-0.592794</td>\n",
              "      <td>-0.272329</td>\n",
              "      <td>-0.739530</td>\n",
              "      <td>1.281446</td>\n",
              "      <td>-0.265549</td>\n",
              "      <td>0.556609</td>\n",
              "      <td>-0.867024</td>\n",
              "      <td>-0.986353</td>\n",
              "      <td>-0.302794</td>\n",
              "      <td>0.396035</td>\n",
              "      <td>-1.207532</td>\n",
              "      <td>1.322937</td>\n",
              "    </tr>\n",
              "    <tr>\n",
              "      <th>3</th>\n",
              "      <td>-0.416338</td>\n",
              "      <td>-0.487240</td>\n",
              "      <td>-1.305586</td>\n",
              "      <td>-0.272329</td>\n",
              "      <td>-0.834458</td>\n",
              "      <td>1.015298</td>\n",
              "      <td>-0.809088</td>\n",
              "      <td>1.076671</td>\n",
              "      <td>-0.752178</td>\n",
              "      <td>-1.105022</td>\n",
              "      <td>0.112920</td>\n",
              "      <td>0.415751</td>\n",
              "      <td>-1.360171</td>\n",
              "      <td>1.181589</td>\n",
              "    </tr>\n",
              "    <tr>\n",
              "      <th>4</th>\n",
              "      <td>-0.412074</td>\n",
              "      <td>-0.487240</td>\n",
              "      <td>-1.305586</td>\n",
              "      <td>-0.272329</td>\n",
              "      <td>-0.834458</td>\n",
              "      <td>1.227362</td>\n",
              "      <td>-0.510674</td>\n",
              "      <td>1.076671</td>\n",
              "      <td>-0.752178</td>\n",
              "      <td>-1.105022</td>\n",
              "      <td>0.112920</td>\n",
              "      <td>0.440616</td>\n",
              "      <td>-1.025487</td>\n",
              "      <td>1.486032</td>\n",
              "    </tr>\n",
              "  </tbody>\n",
              "</table>\n",
              "</div>\n",
              "      <button class=\"colab-df-convert\" onclick=\"convertToInteractive('df-05fbdbb5-9229-4e53-b2f3-ac263b1ab6af')\"\n",
              "              title=\"Convert this dataframe to an interactive table.\"\n",
              "              style=\"display:none;\">\n",
              "        \n",
              "  <svg xmlns=\"http://www.w3.org/2000/svg\" height=\"24px\"viewBox=\"0 0 24 24\"\n",
              "       width=\"24px\">\n",
              "    <path d=\"M0 0h24v24H0V0z\" fill=\"none\"/>\n",
              "    <path d=\"M18.56 5.44l.94 2.06.94-2.06 2.06-.94-2.06-.94-.94-2.06-.94 2.06-2.06.94zm-11 1L8.5 8.5l.94-2.06 2.06-.94-2.06-.94L8.5 2.5l-.94 2.06-2.06.94zm10 10l.94 2.06.94-2.06 2.06-.94-2.06-.94-.94-2.06-.94 2.06-2.06.94z\"/><path d=\"M17.41 7.96l-1.37-1.37c-.4-.4-.92-.59-1.43-.59-.52 0-1.04.2-1.43.59L10.3 9.45l-7.72 7.72c-.78.78-.78 2.05 0 2.83L4 21.41c.39.39.9.59 1.41.59.51 0 1.02-.2 1.41-.59l7.78-7.78 2.81-2.81c.8-.78.8-2.07 0-2.86zM5.41 20L4 18.59l7.72-7.72 1.47 1.35L5.41 20z\"/>\n",
              "  </svg>\n",
              "      </button>\n",
              "      \n",
              "  <style>\n",
              "    .colab-df-container {\n",
              "      display:flex;\n",
              "      flex-wrap:wrap;\n",
              "      gap: 12px;\n",
              "    }\n",
              "\n",
              "    .colab-df-convert {\n",
              "      background-color: #E8F0FE;\n",
              "      border: none;\n",
              "      border-radius: 50%;\n",
              "      cursor: pointer;\n",
              "      display: none;\n",
              "      fill: #1967D2;\n",
              "      height: 32px;\n",
              "      padding: 0 0 0 0;\n",
              "      width: 32px;\n",
              "    }\n",
              "\n",
              "    .colab-df-convert:hover {\n",
              "      background-color: #E2EBFA;\n",
              "      box-shadow: 0px 1px 2px rgba(60, 64, 67, 0.3), 0px 1px 3px 1px rgba(60, 64, 67, 0.15);\n",
              "      fill: #174EA6;\n",
              "    }\n",
              "\n",
              "    [theme=dark] .colab-df-convert {\n",
              "      background-color: #3B4455;\n",
              "      fill: #D2E3FC;\n",
              "    }\n",
              "\n",
              "    [theme=dark] .colab-df-convert:hover {\n",
              "      background-color: #434B5C;\n",
              "      box-shadow: 0px 1px 3px 1px rgba(0, 0, 0, 0.15);\n",
              "      filter: drop-shadow(0px 1px 2px rgba(0, 0, 0, 0.3));\n",
              "      fill: #FFFFFF;\n",
              "    }\n",
              "  </style>\n",
              "\n",
              "      <script>\n",
              "        const buttonEl =\n",
              "          document.querySelector('#df-05fbdbb5-9229-4e53-b2f3-ac263b1ab6af button.colab-df-convert');\n",
              "        buttonEl.style.display =\n",
              "          google.colab.kernel.accessAllowed ? 'block' : 'none';\n",
              "\n",
              "        async function convertToInteractive(key) {\n",
              "          const element = document.querySelector('#df-05fbdbb5-9229-4e53-b2f3-ac263b1ab6af');\n",
              "          const dataTable =\n",
              "            await google.colab.kernel.invokeFunction('convertToInteractive',\n",
              "                                                     [key], {});\n",
              "          if (!dataTable) return;\n",
              "\n",
              "          const docLinkHtml = 'Like what you see? Visit the ' +\n",
              "            '<a target=\"_blank\" href=https://colab.research.google.com/notebooks/data_table.ipynb>data table notebook</a>'\n",
              "            + ' to learn more about interactive tables.';\n",
              "          element.innerHTML = '';\n",
              "          dataTable['output_type'] = 'display_data';\n",
              "          await google.colab.output.renderOutput(dataTable, element);\n",
              "          const docLink = document.createElement('div');\n",
              "          docLink.innerHTML = docLinkHtml;\n",
              "          element.appendChild(docLink);\n",
              "        }\n",
              "      </script>\n",
              "    </div>\n",
              "  </div>\n",
              "  "
            ]
          },
          "metadata": {},
          "execution_count": 3
        }
      ]
    },
    {
      "cell_type": "code",
      "source": [
        "import matplotlib.pyplot as plt\n",
        "\n",
        "# visualize distribution of some features\n",
        "plt.title(\"Distribution of various features\")\n",
        "df_plot['CRIM'].plot(kind='kde')\n",
        "df_plot['ZN'].plot(kind='kde')\n",
        "df_plot['INDUS'].plot(kind='kde')\n",
        "\n",
        "plt.legend()\n",
        "plt.show()"
      ],
      "metadata": {
        "colab": {
          "base_uri": "https://localhost:8080/",
          "height": 281
        },
        "id": "6qAJGT_nRogu",
        "outputId": "78580ae6-5acb-4c6f-91a0-77f878553e22"
      },
      "execution_count": 4,
      "outputs": [
        {
          "output_type": "display_data",
          "data": {
            "text/plain": [
              "<Figure size 432x288 with 1 Axes>"
            ],
            "image/png": "[encoded data removed]"
          },
          "metadata": {
            "needs_background": "light"
          }
        }
      ]
    },
    {
      "cell_type": "markdown",
      "source": [
        "## Data Preprocessing\n",
        "\n",
        "Feature selections, feature engineering, etc."
      ],
      "metadata": {
        "id": "hPhg3vkISSg1"
      }
    },
    {
      "cell_type": "code",
      "source": [
        "# check for NaN values\n",
        "# examine and replace missing values \n",
        "\n",
        "print(df.isnull().values.any())"
      ],
      "metadata": {
        "colab": {
          "base_uri": "https://localhost:8080/"
        },
        "id": "Ft9BNoD7Sr4c",
        "outputId": "5fe4d879-5c75-4495-fedc-001554094bab"
      },
      "execution_count": 5,
      "outputs": [
        {
          "output_type": "stream",
          "name": "stdout",
          "text": [
            "False\n"
          ]
        }
      ]
    },
    {
      "cell_type": "code",
      "source": [
        "# Split dataset to obtain input features X and output y\n",
        "X = df.drop(['MEDV'], axis=1)  \n",
        "y = df['MEDV']"
      ],
      "metadata": {
        "id": "de0krYxLTSTo"
      },
      "execution_count": 6,
      "outputs": []
    },
    {
      "cell_type": "code",
      "source": [
        "from sklearn.model_selection import train_test_split\n",
        "x_train, x_val, y_train, y_val = train_test_split(X, y, test_size=0.2, random_state=42)"
      ],
      "metadata": {
        "id": "ezKD3aj_TxU1"
      },
      "execution_count": 7,
      "outputs": []
    },
    {
      "cell_type": "code",
      "source": [
        "# standardize training data \n",
        "mean = X.mean()\n",
        "std = X.std()\n",
        "\n",
        "x_train = x_train - mean\n",
        "x_train = x_train/std\n",
        "\n",
        "# standardize validation data\n",
        "x_val = x_val - mean\n",
        "x_val = x_val/std\n",
        "\n",
        "# NOTE: you don't have to standardize y, for interpretability reasons"
      ],
      "metadata": {
        "id": "z8S0ZZ-gRFCc"
      },
      "execution_count": 8,
      "outputs": []
    },
    {
      "cell_type": "markdown",
      "source": [
        "## Building our Neural Network"
      ],
      "metadata": {
        "id": "_GqzEwgTUuck"
      }
    },
    {
      "cell_type": "code",
      "source": [
        "from tensorflow import keras\n",
        "from tensorflow.keras import layers\n",
        "\n",
        "def build_model():\n",
        "  # Here we have sequentially: 1 input layer | 1 hidden layer | and 1 output layer\n",
        "  model = keras.Sequential([\n",
        "      layers.Dense(64, activation='relu'),\n",
        "      layers.Dense(64, activation='relu'),\n",
        "      layers.Dense(1) # 1 because we want to return a single value with no transformations (no relu)\n",
        "  ])\n",
        "\n",
        "# initialize optimizer, loss, metrics\n",
        "  model.compile(optimizer='adam',\n",
        "                loss='mse',\n",
        "                metrics=['mae'] # using mean absolute error\n",
        "                )\n",
        "  \n",
        "  return model"
      ],
      "metadata": {
        "id": "96tMgzk-Upje"
      },
      "execution_count": 9,
      "outputs": []
    },
    {
      "cell_type": "code",
      "source": [
        "model = build_model()\n",
        "\n",
        "history = model.fit(x_train, y_train, epochs=100, batch_size=16, validation_data=(x_val, y_val))"
      ],
      "metadata": {
        "colab": {
          "base_uri": "https://localhost:8080/"
        },
        "id": "HK7TaxhsVXkK",
        "outputId": "a8e67cd0-b042-476e-9734-2e4dda98f7a5"
      },
      "execution_count": 10,
      "outputs": [
        {
          "output_type": "stream",
          "name": "stdout",
          "text": [
            "Epoch 1/100\n",
            "26/26 [==============================] - 3s 31ms/step - loss: 558.3292 - mae: 21.8043 - val_loss: 429.5221 - val_mae: 18.9580\n",
            "Epoch 2/100\n",
            "26/26 [==============================] - 1s 24ms/step - loss: 412.1578 - mae: 18.1142 - val_loss: 258.9513 - val_mae: 14.2176\n",
            "Epoch 3/100\n",
            "26/26 [==============================] - 0s 13ms/step - loss: 210.4926 - mae: 12.0664 - val_loss: 91.3853 - val_mae: 7.9418\n",
            "Epoch 4/100\n",
            "26/26 [==============================] - 0s 17ms/step - loss: 87.3060 - mae: 7.3893 - val_loss: 49.8657 - val_mae: 5.2816\n",
            "Epoch 5/100\n",
            "26/26 [==============================] - 0s 13ms/step - loss: 51.3300 - mae: 5.5640 - val_loss: 33.5697 - val_mae: 4.1238\n",
            "Epoch 6/100\n",
            "26/26 [==============================] - 0s 17ms/step - loss: 32.9129 - mae: 4.2589 - val_loss: 27.3233 - val_mae: 3.4355\n",
            "Epoch 7/100\n",
            "26/26 [==============================] - 0s 14ms/step - loss: 25.9317 - mae: 3.7712 - val_loss: 23.9571 - val_mae: 3.1555\n",
            "Epoch 8/100\n",
            "26/26 [==============================] - 0s 19ms/step - loss: 22.4814 - mae: 3.4377 - val_loss: 22.4408 - val_mae: 2.9920\n",
            "Epoch 9/100\n",
            "26/26 [==============================] - 0s 8ms/step - loss: 20.8224 - mae: 3.3077 - val_loss: 20.9289 - val_mae: 2.9339\n",
            "Epoch 10/100\n",
            "26/26 [==============================] - 0s 18ms/step - loss: 19.3211 - mae: 3.2018 - val_loss: 19.6617 - val_mae: 2.8600\n",
            "Epoch 11/100\n",
            "26/26 [==============================] - 0s 18ms/step - loss: 18.0895 - mae: 3.0982 - val_loss: 18.8689 - val_mae: 2.7416\n",
            "Epoch 12/100\n",
            "26/26 [==============================] - 0s 16ms/step - loss: 17.0841 - mae: 3.0184 - val_loss: 18.2381 - val_mae: 2.7062\n",
            "Epoch 13/100\n",
            "26/26 [==============================] - 0s 17ms/step - loss: 16.2042 - mae: 2.9333 - val_loss: 17.5504 - val_mae: 2.6252\n",
            "Epoch 14/100\n",
            "26/26 [==============================] - 0s 15ms/step - loss: 15.6688 - mae: 2.9065 - val_loss: 16.9113 - val_mae: 2.6024\n",
            "Epoch 15/100\n",
            "26/26 [==============================] - 1s 22ms/step - loss: 15.0278 - mae: 2.8316 - val_loss: 16.4514 - val_mae: 2.5700\n",
            "Epoch 16/100\n",
            "26/26 [==============================] - 1s 29ms/step - loss: 14.6260 - mae: 2.7614 - val_loss: 15.9798 - val_mae: 2.5799\n",
            "Epoch 17/100\n",
            "26/26 [==============================] - 0s 15ms/step - loss: 13.7799 - mae: 2.7232 - val_loss: 15.7904 - val_mae: 2.5672\n",
            "Epoch 18/100\n",
            "26/26 [==============================] - 0s 13ms/step - loss: 13.5053 - mae: 2.6492 - val_loss: 15.5828 - val_mae: 2.5924\n",
            "Epoch 19/100\n",
            "26/26 [==============================] - 1s 24ms/step - loss: 12.9518 - mae: 2.6421 - val_loss: 15.2382 - val_mae: 2.5158\n",
            "Epoch 20/100\n",
            "26/26 [==============================] - 1s 22ms/step - loss: 12.7007 - mae: 2.5886 - val_loss: 14.9281 - val_mae: 2.5057\n",
            "Epoch 21/100\n",
            "26/26 [==============================] - 0s 17ms/step - loss: 12.3093 - mae: 2.5711 - val_loss: 14.8389 - val_mae: 2.5261\n",
            "Epoch 22/100\n",
            "26/26 [==============================] - 0s 15ms/step - loss: 12.1901 - mae: 2.5209 - val_loss: 14.3793 - val_mae: 2.5164\n",
            "Epoch 23/100\n",
            "26/26 [==============================] - 0s 15ms/step - loss: 11.7132 - mae: 2.5149 - val_loss: 14.5958 - val_mae: 2.5413\n",
            "Epoch 24/100\n",
            "26/26 [==============================] - 1s 20ms/step - loss: 11.7352 - mae: 2.5084 - val_loss: 14.0302 - val_mae: 2.4826\n",
            "Epoch 25/100\n",
            "26/26 [==============================] - 0s 9ms/step - loss: 11.2579 - mae: 2.4341 - val_loss: 13.6895 - val_mae: 2.4652\n",
            "Epoch 26/100\n",
            "26/26 [==============================] - 1s 21ms/step - loss: 11.4243 - mae: 2.4741 - val_loss: 13.9714 - val_mae: 2.4796\n",
            "Epoch 27/100\n",
            "26/26 [==============================] - 0s 11ms/step - loss: 10.9730 - mae: 2.4188 - val_loss: 13.4483 - val_mae: 2.4846\n",
            "Epoch 28/100\n",
            "26/26 [==============================] - 0s 11ms/step - loss: 10.8148 - mae: 2.4046 - val_loss: 13.4626 - val_mae: 2.5023\n",
            "Epoch 29/100\n",
            "26/26 [==============================] - 0s 10ms/step - loss: 10.7149 - mae: 2.3856 - val_loss: 13.3139 - val_mae: 2.4966\n",
            "Epoch 30/100\n",
            "26/26 [==============================] - 0s 13ms/step - loss: 10.4923 - mae: 2.3560 - val_loss: 13.2658 - val_mae: 2.4656\n",
            "Epoch 31/100\n",
            "26/26 [==============================] - 0s 16ms/step - loss: 10.1720 - mae: 2.3224 - val_loss: 12.9869 - val_mae: 2.4656\n",
            "Epoch 32/100\n",
            "26/26 [==============================] - 0s 17ms/step - loss: 10.2106 - mae: 2.3409 - val_loss: 13.0089 - val_mae: 2.4356\n",
            "Epoch 33/100\n",
            "26/26 [==============================] - 0s 13ms/step - loss: 10.0943 - mae: 2.3251 - val_loss: 12.7593 - val_mae: 2.4255\n",
            "Epoch 34/100\n",
            "26/26 [==============================] - 0s 17ms/step - loss: 9.7305 - mae: 2.2818 - val_loss: 12.6217 - val_mae: 2.4041\n",
            "Epoch 35/100\n",
            "26/26 [==============================] - 0s 5ms/step - loss: 9.6756 - mae: 2.2753 - val_loss: 12.6902 - val_mae: 2.4229\n",
            "Epoch 36/100\n",
            "26/26 [==============================] - 0s 5ms/step - loss: 9.5509 - mae: 2.2734 - val_loss: 12.4507 - val_mae: 2.4175\n",
            "Epoch 37/100\n",
            "26/26 [==============================] - 0s 6ms/step - loss: 9.5261 - mae: 2.2596 - val_loss: 12.5627 - val_mae: 2.3867\n",
            "Epoch 38/100\n",
            "26/26 [==============================] - 0s 5ms/step - loss: 9.2133 - mae: 2.2281 - val_loss: 12.7761 - val_mae: 2.4472\n",
            "Epoch 39/100\n",
            "26/26 [==============================] - 0s 6ms/step - loss: 9.4723 - mae: 2.2793 - val_loss: 12.9680 - val_mae: 2.4250\n",
            "Epoch 40/100\n",
            "26/26 [==============================] - 0s 5ms/step - loss: 9.1448 - mae: 2.2054 - val_loss: 12.2060 - val_mae: 2.3341\n",
            "Epoch 41/100\n",
            "26/26 [==============================] - 0s 5ms/step - loss: 9.0946 - mae: 2.2176 - val_loss: 12.5554 - val_mae: 2.4240\n",
            "Epoch 42/100\n",
            "26/26 [==============================] - 0s 7ms/step - loss: 8.8823 - mae: 2.2046 - val_loss: 12.4615 - val_mae: 2.3651\n",
            "Epoch 43/100\n",
            "26/26 [==============================] - 0s 6ms/step - loss: 8.7041 - mae: 2.1744 - val_loss: 12.1603 - val_mae: 2.3751\n",
            "Epoch 44/100\n",
            "26/26 [==============================] - 0s 5ms/step - loss: 8.6808 - mae: 2.1480 - val_loss: 12.3193 - val_mae: 2.3470\n",
            "Epoch 45/100\n",
            "26/26 [==============================] - 0s 6ms/step - loss: 8.3561 - mae: 2.1317 - val_loss: 12.1653 - val_mae: 2.3601\n",
            "Epoch 46/100\n",
            "26/26 [==============================] - 0s 6ms/step - loss: 8.3108 - mae: 2.1197 - val_loss: 12.2395 - val_mae: 2.3507\n",
            "Epoch 47/100\n",
            "26/26 [==============================] - 0s 8ms/step - loss: 8.2824 - mae: 2.1109 - val_loss: 11.9133 - val_mae: 2.3201\n",
            "Epoch 48/100\n",
            "26/26 [==============================] - 0s 6ms/step - loss: 8.1923 - mae: 2.1049 - val_loss: 11.9986 - val_mae: 2.3210\n",
            "Epoch 49/100\n",
            "26/26 [==============================] - 0s 5ms/step - loss: 8.1188 - mae: 2.0982 - val_loss: 12.0526 - val_mae: 2.3381\n",
            "Epoch 50/100\n",
            "26/26 [==============================] - 0s 6ms/step - loss: 8.2366 - mae: 2.1133 - val_loss: 12.2518 - val_mae: 2.3476\n",
            "Epoch 51/100\n",
            "26/26 [==============================] - 0s 7ms/step - loss: 8.1228 - mae: 2.1057 - val_loss: 11.9474 - val_mae: 2.3150\n",
            "Epoch 52/100\n",
            "26/26 [==============================] - 0s 6ms/step - loss: 7.8662 - mae: 2.0570 - val_loss: 12.1193 - val_mae: 2.3216\n",
            "Epoch 53/100\n",
            "26/26 [==============================] - 0s 7ms/step - loss: 7.6639 - mae: 2.0264 - val_loss: 11.6578 - val_mae: 2.2887\n",
            "Epoch 54/100\n",
            "26/26 [==============================] - 0s 6ms/step - loss: 7.6051 - mae: 2.0262 - val_loss: 11.9060 - val_mae: 2.3373\n",
            "Epoch 55/100\n",
            "26/26 [==============================] - 0s 7ms/step - loss: 7.7032 - mae: 2.0464 - val_loss: 11.9579 - val_mae: 2.2991\n",
            "Epoch 56/100\n",
            "26/26 [==============================] - 0s 4ms/step - loss: 7.6112 - mae: 2.0352 - val_loss: 11.8104 - val_mae: 2.2960\n",
            "Epoch 57/100\n",
            "26/26 [==============================] - 0s 4ms/step - loss: 7.3998 - mae: 1.9993 - val_loss: 12.0625 - val_mae: 2.3283\n",
            "Epoch 58/100\n",
            "26/26 [==============================] - 0s 4ms/step - loss: 7.4381 - mae: 1.9990 - val_loss: 11.7619 - val_mae: 2.2615\n",
            "Epoch 59/100\n",
            "26/26 [==============================] - 0s 4ms/step - loss: 7.2696 - mae: 2.0050 - val_loss: 11.6789 - val_mae: 2.2719\n",
            "Epoch 60/100\n",
            "26/26 [==============================] - 0s 3ms/step - loss: 7.3391 - mae: 1.9813 - val_loss: 11.7328 - val_mae: 2.2506\n",
            "Epoch 61/100\n",
            "26/26 [==============================] - 0s 4ms/step - loss: 7.2946 - mae: 1.9984 - val_loss: 11.7900 - val_mae: 2.2629\n",
            "Epoch 62/100\n",
            "26/26 [==============================] - 0s 3ms/step - loss: 7.0564 - mae: 1.9807 - val_loss: 11.5704 - val_mae: 2.2642\n",
            "Epoch 63/100\n",
            "26/26 [==============================] - 0s 4ms/step - loss: 7.0969 - mae: 1.9949 - val_loss: 12.1391 - val_mae: 2.3173\n",
            "Epoch 64/100\n",
            "26/26 [==============================] - 0s 5ms/step - loss: 6.9521 - mae: 1.9668 - val_loss: 11.5256 - val_mae: 2.2473\n",
            "Epoch 65/100\n",
            "26/26 [==============================] - 0s 4ms/step - loss: 6.8791 - mae: 1.9615 - val_loss: 11.9721 - val_mae: 2.2873\n",
            "Epoch 66/100\n",
            "26/26 [==============================] - 0s 3ms/step - loss: 7.0834 - mae: 1.9844 - val_loss: 11.7025 - val_mae: 2.2443\n",
            "Epoch 67/100\n",
            "26/26 [==============================] - 0s 4ms/step - loss: 6.8167 - mae: 1.9373 - val_loss: 11.9424 - val_mae: 2.2572\n",
            "Epoch 68/100\n",
            "26/26 [==============================] - 0s 4ms/step - loss: 6.7519 - mae: 1.9247 - val_loss: 11.8239 - val_mae: 2.2826\n",
            "Epoch 69/100\n",
            "26/26 [==============================] - 0s 4ms/step - loss: 6.9071 - mae: 1.9726 - val_loss: 11.8547 - val_mae: 2.3091\n",
            "Epoch 70/100\n",
            "26/26 [==============================] - 0s 4ms/step - loss: 6.8863 - mae: 1.9697 - val_loss: 11.3061 - val_mae: 2.2295\n",
            "Epoch 71/100\n",
            "26/26 [==============================] - 0s 4ms/step - loss: 6.5133 - mae: 1.9341 - val_loss: 11.7659 - val_mae: 2.2557\n",
            "Epoch 72/100\n",
            "26/26 [==============================] - 0s 4ms/step - loss: 6.4917 - mae: 1.8978 - val_loss: 11.3777 - val_mae: 2.2066\n",
            "Epoch 73/100\n",
            "26/26 [==============================] - 0s 5ms/step - loss: 6.3883 - mae: 1.8840 - val_loss: 11.4000 - val_mae: 2.2384\n",
            "Epoch 74/100\n",
            "26/26 [==============================] - 0s 5ms/step - loss: 6.6872 - mae: 1.9431 - val_loss: 11.7811 - val_mae: 2.1999\n",
            "Epoch 75/100\n",
            "26/26 [==============================] - 0s 5ms/step - loss: 6.1868 - mae: 1.8452 - val_loss: 11.5476 - val_mae: 2.2280\n",
            "Epoch 76/100\n",
            "26/26 [==============================] - 0s 5ms/step - loss: 6.2028 - mae: 1.8613 - val_loss: 11.5806 - val_mae: 2.2145\n",
            "Epoch 77/100\n",
            "26/26 [==============================] - 0s 5ms/step - loss: 6.0497 - mae: 1.8320 - val_loss: 11.3549 - val_mae: 2.2063\n",
            "Epoch 78/100\n",
            "26/26 [==============================] - 0s 5ms/step - loss: 6.0697 - mae: 1.8362 - val_loss: 11.7084 - val_mae: 2.2139\n",
            "Epoch 79/100\n",
            "26/26 [==============================] - 0s 5ms/step - loss: 6.0476 - mae: 1.8333 - val_loss: 11.4546 - val_mae: 2.1946\n",
            "Epoch 80/100\n",
            "26/26 [==============================] - 0s 5ms/step - loss: 5.9624 - mae: 1.8407 - val_loss: 12.0006 - val_mae: 2.2143\n",
            "Epoch 81/100\n",
            "26/26 [==============================] - 0s 7ms/step - loss: 6.0212 - mae: 1.8214 - val_loss: 11.6044 - val_mae: 2.1962\n",
            "Epoch 82/100\n",
            "26/26 [==============================] - 0s 6ms/step - loss: 5.9032 - mae: 1.8123 - val_loss: 11.4510 - val_mae: 2.2108\n",
            "Epoch 83/100\n",
            "26/26 [==============================] - 0s 6ms/step - loss: 5.8938 - mae: 1.8195 - val_loss: 11.3649 - val_mae: 2.1887\n",
            "Epoch 84/100\n",
            "26/26 [==============================] - 0s 6ms/step - loss: 5.8190 - mae: 1.8085 - val_loss: 11.5818 - val_mae: 2.1827\n",
            "Epoch 85/100\n",
            "26/26 [==============================] - 0s 6ms/step - loss: 5.7005 - mae: 1.7767 - val_loss: 11.3296 - val_mae: 2.1732\n",
            "Epoch 86/100\n",
            "26/26 [==============================] - 0s 5ms/step - loss: 5.6120 - mae: 1.7818 - val_loss: 11.4847 - val_mae: 2.2146\n",
            "Epoch 87/100\n",
            "26/26 [==============================] - 0s 5ms/step - loss: 5.6577 - mae: 1.7708 - val_loss: 12.5119 - val_mae: 2.2990\n",
            "Epoch 88/100\n",
            "26/26 [==============================] - 0s 5ms/step - loss: 5.6655 - mae: 1.7834 - val_loss: 11.6234 - val_mae: 2.1930\n",
            "Epoch 89/100\n",
            "26/26 [==============================] - 0s 6ms/step - loss: 5.4443 - mae: 1.7309 - val_loss: 11.5587 - val_mae: 2.1716\n",
            "Epoch 90/100\n",
            "26/26 [==============================] - 0s 6ms/step - loss: 5.5078 - mae: 1.7606 - val_loss: 11.3855 - val_mae: 2.1569\n",
            "Epoch 91/100\n",
            "26/26 [==============================] - 0s 5ms/step - loss: 5.6447 - mae: 1.7936 - val_loss: 11.2885 - val_mae: 2.1936\n",
            "Epoch 92/100\n",
            "26/26 [==============================] - 0s 5ms/step - loss: 5.1816 - mae: 1.7071 - val_loss: 12.0668 - val_mae: 2.1974\n",
            "Epoch 93/100\n",
            "26/26 [==============================] - 0s 5ms/step - loss: 5.5017 - mae: 1.7343 - val_loss: 11.7006 - val_mae: 2.1736\n",
            "Epoch 94/100\n",
            "26/26 [==============================] - 0s 4ms/step - loss: 5.5262 - mae: 1.7691 - val_loss: 12.5650 - val_mae: 2.3920\n",
            "Epoch 95/100\n",
            "26/26 [==============================] - 0s 3ms/step - loss: 5.8220 - mae: 1.8173 - val_loss: 11.5667 - val_mae: 2.1976\n",
            "Epoch 96/100\n",
            "26/26 [==============================] - 0s 4ms/step - loss: 5.3809 - mae: 1.7207 - val_loss: 11.7488 - val_mae: 2.3253\n",
            "Epoch 97/100\n",
            "26/26 [==============================] - 0s 4ms/step - loss: 5.3444 - mae: 1.7445 - val_loss: 11.4317 - val_mae: 2.2550\n",
            "Epoch 98/100\n",
            "26/26 [==============================] - 0s 3ms/step - loss: 5.2004 - mae: 1.6964 - val_loss: 11.0886 - val_mae: 2.1567\n",
            "Epoch 99/100\n",
            "26/26 [==============================] - 0s 3ms/step - loss: 5.0320 - mae: 1.6515 - val_loss: 11.6979 - val_mae: 2.1702\n",
            "Epoch 100/100\n",
            "26/26 [==============================] - 0s 4ms/step - loss: 4.8951 - mae: 1.6490 - val_loss: 11.5089 - val_mae: 2.1911\n"
          ]
        }
      ]
    },
    {
      "cell_type": "code",
      "source": [
        "# Plotting our loss over time\n",
        "plt.figure(figsize=(16, 8))\n",
        "plt.plot(history.history['loss'], label='train')\n",
        "plt.plot(history.history['val_loss'], label='val')\n",
        "plt.title('model loss')\n",
        "plt.ylabel('loss')\n",
        "plt.xlabel('epoch')\n",
        "plt.legend()"
      ],
      "metadata": {
        "colab": {
          "base_uri": "https://localhost:8080/",
          "height": 531
        },
        "id": "SwBZrZrgYlAv",
        "outputId": "a53543fc-e907-4054-89c5-72d13db8ba31"
      },
      "execution_count": 11,
      "outputs": [
        {
          "output_type": "execute_result",
          "data": {
            "text/plain": [
              "<matplotlib.legend.Legend at 0x7fe38c5608b0>"
            ]
          },
          "metadata": {},
          "execution_count": 11
        },
        {
          "output_type": "display_data",
          "data": {
            "text/plain": [
              "<Figure size 1152x576 with 1 Axes>"
            ],
            "image/png": "[encoded data removed]"
          },
          "metadata": {
            "needs_background": "light"
          }
        }
      ]
    },
    {
      "cell_type": "markdown",
      "source": [
        "## Model \"deployment\""
      ],
      "metadata": {
        "id": "E-MUaB3FYXFU"
      }
    },
    {
      "cell_type": "code",
      "source": [
        "# predictions, we are predicting on validation dataset, but in the real world, your model will try to predict the test dataset\n",
        "predictions = model.predict(x_val)"
      ],
      "metadata": {
        "colab": {
          "base_uri": "https://localhost:8080/"
        },
        "id": "sxDKCa6xXbOy",
        "outputId": "6be1cbe0-4117-40d4-96c0-ac5b860ea65c"
      },
      "execution_count": 12,
      "outputs": [
        {
          "output_type": "stream",
          "name": "stdout",
          "text": [
            "4/4 [==============================] - 0s 3ms/step\n"
          ]
        }
      ]
    },
    {
      "cell_type": "code",
      "source": [
        "print(predictions[:5]) # first 5 predictions\n",
        "print(y_val[:5]) # first 5 ground truth labels"
      ],
      "metadata": {
        "colab": {
          "base_uri": "https://localhost:8080/"
        },
        "id": "bIYSXeFSXls2",
        "outputId": "5083d91f-0727-4986-af5b-809f6817e9aa"
      },
      "execution_count": 13,
      "outputs": [
        {
          "output_type": "stream",
          "name": "stdout",
          "text": [
            "[[26.722404]\n",
            " [35.191154]\n",
            " [15.466902]\n",
            " [24.515615]\n",
            " [15.848823]]\n",
            "173    23.6\n",
            "274    32.4\n",
            "491    13.6\n",
            "72     22.8\n",
            "452    16.1\n",
            "Name: MEDV, dtype: float64\n"
          ]
        }
      ]
    },
    {
      "cell_type": "code",
      "source": [
        "fig, ax = plt.subplots()\n",
        "ax.scatter(y_val, predictions)\n",
        "ax.plot([y_val.min(), y_val.max()], [y_val.min(), y_val.max()], 'k--', lw=4)\n",
        "ax.set_xlabel(\"Measured\")\n",
        "ax.set_ylabel(\"Predicted\")\n",
        "plt.show()"
      ],
      "metadata": {
        "colab": {
          "base_uri": "https://localhost:8080/",
          "height": 279
        },
        "id": "SacUE2JkX5FY",
        "outputId": "7f44be65-b833-4e26-baa3-8da723140510"
      },
      "execution_count": 14,
      "outputs": [
        {
          "output_type": "display_data",
          "data": {
            "text/plain": [
              "<Figure size 432x288 with 1 Axes>"
            ],
            "image/png": "[encoded data removed]"
          },
          "metadata": {
            "needs_background": "light"
          }
        }
      ]
    },
    {
      "cell_type": "markdown",
      "source": [
        "Note: Since we trained the model on standardized data, standardizing testing data (using mean and std from the **training dataset**) can yield better results."
      ],
      "metadata": {
        "id": "98W2LUh6ESlm"
      }
    }
  ]
}