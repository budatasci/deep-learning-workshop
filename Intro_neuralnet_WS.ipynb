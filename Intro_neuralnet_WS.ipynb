{
  "nbformat": 4,
  "nbformat_minor": 0,
  "metadata": {
    "colab": {
      "provenance": []
    },
    "kernelspec": {
      "name": "python3",
      "display_name": "Python 3"
    },
    "language_info": {
      "name": "python"
    }
  },
  "cells": [
    {
      "cell_type": "markdown",
      "source": [
        "# Introduction to Neural Networks for Regressions\n",
        "1. Exploratory data analysis\n",
        "2. Data preprocessing\n",
        "3. Modeling\n",
        "4. Evaluating / deploying"
      ],
      "metadata": {
        "id": "wocbos9pSViU"
      }
    },
    {
      "cell_type": "markdown",
      "source": [
        "# Data Background\n",
        "\n",
        "The [data](http://lib.stat.cmu.edu/datasets/boston) was drawn from the Boston Standard Metropolitan Statistical Area (SMSA) in 1970. \n",
        "\n",
        "The attributes are deﬁned as follows:\n",
        "\n",
        "```\n",
        "  CRIM: per capita crime rate by town.\n",
        "  ZN: proportion of residential land zoned for lots over 25,000 sq.ft.\n",
        "  INDUS: proportion of non-retail business acres per town\n",
        "  CHAS: Charles River dummy variable (= 1 if tract bounds river; 0 otherwise)\n",
        "  NOX: nitric oxides concentration (parts per 10 million)\n",
        "  RM: average number of rooms per dwelling\n",
        "  AGE: proportion of owner-occupied units built prior to 1940\n",
        "  DIS: weighted distances to ﬁve Boston employment centers\n",
        "  RAD: index of accessibility to radial highways\n",
        "  TAX: full-value property-tax rate per $10,000\n",
        "  PTRATIO: pupil-teacher ratio by town 12. \n",
        "  B: 1000(Bk−0.63)^2 where Bk is the proportion of blacks by town 13. \n",
        "  LSTAT: % lower status of the population\n",
        "  MEDV: Median value of owner-occupied homes in $1000s\n",
        "```"
      ],
      "metadata": {
        "id": "9GYVIkop52IO"
      }
    },
    {
      "cell_type": "code",
      "execution_count": 41,
      "metadata": {
        "colab": {
          "base_uri": "https://localhost:8080/",
          "height": 206
        },
        "id": "jOUNSIyDQ4B8",
        "outputId": "2b9d881c-fd54-4417-d326-f6953b52458c"
      },
      "outputs": [
        {
          "output_type": "execute_result",
          "data": {
            "text/plain": [
              "      CRIM    ZN  INDUS  CHAS    NOX     RM   AGE     DIS  RAD    TAX  \\\n",
              "0  0.00632  18.0   2.31     0  0.538  6.575  65.2  4.0900    1  296.0   \n",
              "1  0.02731   0.0   7.07     0  0.469  6.421  78.9  4.9671    2  242.0   \n",
              "2  0.02729   0.0   7.07     0  0.469  7.185  61.1  4.9671    2  242.0   \n",
              "3  0.03237   0.0   2.18     0  0.458  6.998  45.8  6.0622    3  222.0   \n",
              "4  0.06905   0.0   2.18     0  0.458  7.147  54.2  6.0622    3  222.0   \n",
              "\n",
              "   PTRATIO       B  LSTAT  MEDV  \n",
              "0     15.3  396.90   4.98  24.0  \n",
              "1     17.8  396.90   9.14  21.6  \n",
              "2     17.8  392.83   4.03  34.7  \n",
              "3     18.7  394.63   2.94  33.4  \n",
              "4     18.7  396.90   5.33  36.2  "
            ],
            "text/html": [
              "\n",
              "  <div id=\"df-355e92d4-dc45-40ed-8e08-fd41bc4e4866\">\n",
              "    <div class=\"colab-df-container\">\n",
              "      <div>\n",
              "<style scoped>\n",
              "    .dataframe tbody tr th:only-of-type {\n",
              "        vertical-align: middle;\n",
              "    }\n",
              "\n",
              "    .dataframe tbody tr th {\n",
              "        vertical-align: top;\n",
              "    }\n",
              "\n",
              "    .dataframe thead th {\n",
              "        text-align: right;\n",
              "    }\n",
              "</style>\n",
              "<table border=\"1\" class=\"dataframe\">\n",
              "  <thead>\n",
              "    <tr style=\"text-align: right;\">\n",
              "      <th></th>\n",
              "      <th>CRIM</th>\n",
              "      <th>ZN</th>\n",
              "      <th>INDUS</th>\n",
              "      <th>CHAS</th>\n",
              "      <th>NOX</th>\n",
              "      <th>RM</th>\n",
              "      <th>AGE</th>\n",
              "      <th>DIS</th>\n",
              "      <th>RAD</th>\n",
              "      <th>TAX</th>\n",
              "      <th>PTRATIO</th>\n",
              "      <th>B</th>\n",
              "      <th>LSTAT</th>\n",
              "      <th>MEDV</th>\n",
              "    </tr>\n",
              "  </thead>\n",
              "  <tbody>\n",
              "    <tr>\n",
              "      <th>0</th>\n",
              "      <td>0.00632</td>\n",
              "      <td>18.0</td>\n",
              "      <td>2.31</td>\n",
              "      <td>0</td>\n",
              "      <td>0.538</td>\n",
              "      <td>6.575</td>\n",
              "      <td>65.2</td>\n",
              "      <td>4.0900</td>\n",
              "      <td>1</td>\n",
              "      <td>296.0</td>\n",
              "      <td>15.3</td>\n",
              "      <td>396.90</td>\n",
              "      <td>4.98</td>\n",
              "      <td>24.0</td>\n",
              "    </tr>\n",
              "    <tr>\n",
              "      <th>1</th>\n",
              "      <td>0.02731</td>\n",
              "      <td>0.0</td>\n",
              "      <td>7.07</td>\n",
              "      <td>0</td>\n",
              "      <td>0.469</td>\n",
              "      <td>6.421</td>\n",
              "      <td>78.9</td>\n",
              "      <td>4.9671</td>\n",
              "      <td>2</td>\n",
              "      <td>242.0</td>\n",
              "      <td>17.8</td>\n",
              "      <td>396.90</td>\n",
              "      <td>9.14</td>\n",
              "      <td>21.6</td>\n",
              "    </tr>\n",
              "    <tr>\n",
              "      <th>2</th>\n",
              "      <td>0.02729</td>\n",
              "      <td>0.0</td>\n",
              "      <td>7.07</td>\n",
              "      <td>0</td>\n",
              "      <td>0.469</td>\n",
              "      <td>7.185</td>\n",
              "      <td>61.1</td>\n",
              "      <td>4.9671</td>\n",
              "      <td>2</td>\n",
              "      <td>242.0</td>\n",
              "      <td>17.8</td>\n",
              "      <td>392.83</td>\n",
              "      <td>4.03</td>\n",
              "      <td>34.7</td>\n",
              "    </tr>\n",
              "    <tr>\n",
              "      <th>3</th>\n",
              "      <td>0.03237</td>\n",
              "      <td>0.0</td>\n",
              "      <td>2.18</td>\n",
              "      <td>0</td>\n",
              "      <td>0.458</td>\n",
              "      <td>6.998</td>\n",
              "      <td>45.8</td>\n",
              "      <td>6.0622</td>\n",
              "      <td>3</td>\n",
              "      <td>222.0</td>\n",
              "      <td>18.7</td>\n",
              "      <td>394.63</td>\n",
              "      <td>2.94</td>\n",
              "      <td>33.4</td>\n",
              "    </tr>\n",
              "    <tr>\n",
              "      <th>4</th>\n",
              "      <td>0.06905</td>\n",
              "      <td>0.0</td>\n",
              "      <td>2.18</td>\n",
              "      <td>0</td>\n",
              "      <td>0.458</td>\n",
              "      <td>7.147</td>\n",
              "      <td>54.2</td>\n",
              "      <td>6.0622</td>\n",
              "      <td>3</td>\n",
              "      <td>222.0</td>\n",
              "      <td>18.7</td>\n",
              "      <td>396.90</td>\n",
              "      <td>5.33</td>\n",
              "      <td>36.2</td>\n",
              "    </tr>\n",
              "  </tbody>\n",
              "</table>\n",
              "</div>\n",
              "      <button class=\"colab-df-convert\" onclick=\"convertToInteractive('df-355e92d4-dc45-40ed-8e08-fd41bc4e4866')\"\n",
              "              title=\"Convert this dataframe to an interactive table.\"\n",
              "              style=\"display:none;\">\n",
              "        \n",
              "  <svg xmlns=\"http://www.w3.org/2000/svg\" height=\"24px\"viewBox=\"0 0 24 24\"\n",
              "       width=\"24px\">\n",
              "    <path d=\"M0 0h24v24H0V0z\" fill=\"none\"/>\n",
              "    <path d=\"M18.56 5.44l.94 2.06.94-2.06 2.06-.94-2.06-.94-.94-2.06-.94 2.06-2.06.94zm-11 1L8.5 8.5l.94-2.06 2.06-.94-2.06-.94L8.5 2.5l-.94 2.06-2.06.94zm10 10l.94 2.06.94-2.06 2.06-.94-2.06-.94-.94-2.06-.94 2.06-2.06.94z\"/><path d=\"M17.41 7.96l-1.37-1.37c-.4-.4-.92-.59-1.43-.59-.52 0-1.04.2-1.43.59L10.3 9.45l-7.72 7.72c-.78.78-.78 2.05 0 2.83L4 21.41c.39.39.9.59 1.41.59.51 0 1.02-.2 1.41-.59l7.78-7.78 2.81-2.81c.8-.78.8-2.07 0-2.86zM5.41 20L4 18.59l7.72-7.72 1.47 1.35L5.41 20z\"/>\n",
              "  </svg>\n",
              "      </button>\n",
              "      \n",
              "  <style>\n",
              "    .colab-df-container {\n",
              "      display:flex;\n",
              "      flex-wrap:wrap;\n",
              "      gap: 12px;\n",
              "    }\n",
              "\n",
              "    .colab-df-convert {\n",
              "      background-color: #E8F0FE;\n",
              "      border: none;\n",
              "      border-radius: 50%;\n",
              "      cursor: pointer;\n",
              "      display: none;\n",
              "      fill: #1967D2;\n",
              "      height: 32px;\n",
              "      padding: 0 0 0 0;\n",
              "      width: 32px;\n",
              "    }\n",
              "\n",
              "    .colab-df-convert:hover {\n",
              "      background-color: #E2EBFA;\n",
              "      box-shadow: 0px 1px 2px rgba(60, 64, 67, 0.3), 0px 1px 3px 1px rgba(60, 64, 67, 0.15);\n",
              "      fill: #174EA6;\n",
              "    }\n",
              "\n",
              "    [theme=dark] .colab-df-convert {\n",
              "      background-color: #3B4455;\n",
              "      fill: #D2E3FC;\n",
              "    }\n",
              "\n",
              "    [theme=dark] .colab-df-convert:hover {\n",
              "      background-color: #434B5C;\n",
              "      box-shadow: 0px 1px 3px 1px rgba(0, 0, 0, 0.15);\n",
              "      filter: drop-shadow(0px 1px 2px rgba(0, 0, 0, 0.3));\n",
              "      fill: #FFFFFF;\n",
              "    }\n",
              "  </style>\n",
              "\n",
              "      <script>\n",
              "        const buttonEl =\n",
              "          document.querySelector('#df-355e92d4-dc45-40ed-8e08-fd41bc4e4866 button.colab-df-convert');\n",
              "        buttonEl.style.display =\n",
              "          google.colab.kernel.accessAllowed ? 'block' : 'none';\n",
              "\n",
              "        async function convertToInteractive(key) {\n",
              "          const element = document.querySelector('#df-355e92d4-dc45-40ed-8e08-fd41bc4e4866');\n",
              "          const dataTable =\n",
              "            await google.colab.kernel.invokeFunction('convertToInteractive',\n",
              "                                                     [key], {});\n",
              "          if (!dataTable) return;\n",
              "\n",
              "          const docLinkHtml = 'Like what you see? Visit the ' +\n",
              "            '<a target=\"_blank\" href=https://colab.research.google.com/notebooks/data_table.ipynb>data table notebook</a>'\n",
              "            + ' to learn more about interactive tables.';\n",
              "          element.innerHTML = '';\n",
              "          dataTable['output_type'] = 'display_data';\n",
              "          await google.colab.output.renderOutput(dataTable, element);\n",
              "          const docLink = document.createElement('div');\n",
              "          docLink.innerHTML = docLinkHtml;\n",
              "          element.appendChild(docLink);\n",
              "        }\n",
              "      </script>\n",
              "    </div>\n",
              "  </div>\n",
              "  "
            ]
          },
          "metadata": {},
          "execution_count": 41
        }
      ],
      "source": [
        "import pandas as pd\n",
        "\n",
        "df = pd.read_csv(\"https://raw.githubusercontent.com/weibb123/DLWorkshop/main/boston.csv\")\n",
        "df.head()"
      ]
    },
    {
      "cell_type": "code",
      "source": [
        "print(df.shape)"
      ],
      "metadata": {
        "colab": {
          "base_uri": "https://localhost:8080/"
        },
        "id": "6YTYJ8M4RHKx",
        "outputId": "f9199d85-7801-4394-bb99-ad9484355d94"
      },
      "execution_count": 42,
      "outputs": [
        {
          "output_type": "stream",
          "name": "stdout",
          "text": [
            "(506, 14)\n"
          ]
        }
      ]
    },
    {
      "cell_type": "markdown",
      "source": [
        "# Simple EDA"
      ],
      "metadata": {
        "id": "i-80kIK0SHch"
      }
    },
    {
      "cell_type": "markdown",
      "source": [
        "We will tranform our data using standardization: $ z = \\frac{x-\\mu}{\\sigma} $"
      ],
      "metadata": {
        "id": "4x_612BSfRkF"
      }
    },
    {
      "cell_type": "code",
      "source": [
        "# standardization\n",
        "\n",
        "df_plot = df.copy()\n",
        "mean = df_plot.mean(axis=0) # 0=sum up all the row, 1=col\n",
        "std = df_plot.std(axis=0)\n",
        "\n",
        "df_plot = df_plot - mean \n",
        "df_plot = df_plot/std\n",
        "df_plot.head() # standardized"
      ],
      "metadata": {
        "id": "jvnsBcHORU0q",
        "colab": {
          "base_uri": "https://localhost:8080/",
          "height": 206
        },
        "outputId": "fcd99543-4fb1-411f-d1ec-f36ed3cb61d4"
      },
      "execution_count": 43,
      "outputs": [
        {
          "output_type": "execute_result",
          "data": {
            "text/plain": [
              "       CRIM        ZN     INDUS      CHAS       NOX        RM       AGE  \\\n",
              "0 -0.419367  0.284548 -1.286636 -0.272329 -0.144075  0.413263 -0.119895   \n",
              "1 -0.416927 -0.487240 -0.592794 -0.272329 -0.739530  0.194082  0.366803   \n",
              "2 -0.416929 -0.487240 -0.592794 -0.272329 -0.739530  1.281446 -0.265549   \n",
              "3 -0.416338 -0.487240 -1.305586 -0.272329 -0.834458  1.015298 -0.809088   \n",
              "4 -0.412074 -0.487240 -1.305586 -0.272329 -0.834458  1.227362 -0.510674   \n",
              "\n",
              "        DIS       RAD       TAX   PTRATIO         B     LSTAT      MEDV  \n",
              "0  0.140075 -0.981871 -0.665949 -1.457558  0.440616 -1.074499  0.159528  \n",
              "1  0.556609 -0.867024 -0.986353 -0.302794  0.440616 -0.491953 -0.101424  \n",
              "2  0.556609 -0.867024 -0.986353 -0.302794  0.396035 -1.207532  1.322937  \n",
              "3  1.076671 -0.752178 -1.105022  0.112920  0.415751 -1.360171  1.181589  \n",
              "4  1.076671 -0.752178 -1.105022  0.112920  0.440616 -1.025487  1.486032  "
            ],
            "text/html": [
              "\n",
              "  <div id=\"df-1f9fd1b8-7aa7-475a-a43e-1145ec66c7f8\">\n",
              "    <div class=\"colab-df-container\">\n",
              "      <div>\n",
              "<style scoped>\n",
              "    .dataframe tbody tr th:only-of-type {\n",
              "        vertical-align: middle;\n",
              "    }\n",
              "\n",
              "    .dataframe tbody tr th {\n",
              "        vertical-align: top;\n",
              "    }\n",
              "\n",
              "    .dataframe thead th {\n",
              "        text-align: right;\n",
              "    }\n",
              "</style>\n",
              "<table border=\"1\" class=\"dataframe\">\n",
              "  <thead>\n",
              "    <tr style=\"text-align: right;\">\n",
              "      <th></th>\n",
              "      <th>CRIM</th>\n",
              "      <th>ZN</th>\n",
              "      <th>INDUS</th>\n",
              "      <th>CHAS</th>\n",
              "      <th>NOX</th>\n",
              "      <th>RM</th>\n",
              "      <th>AGE</th>\n",
              "      <th>DIS</th>\n",
              "      <th>RAD</th>\n",
              "      <th>TAX</th>\n",
              "      <th>PTRATIO</th>\n",
              "      <th>B</th>\n",
              "      <th>LSTAT</th>\n",
              "      <th>MEDV</th>\n",
              "    </tr>\n",
              "  </thead>\n",
              "  <tbody>\n",
              "    <tr>\n",
              "      <th>0</th>\n",
              "      <td>-0.419367</td>\n",
              "      <td>0.284548</td>\n",
              "      <td>-1.286636</td>\n",
              "      <td>-0.272329</td>\n",
              "      <td>-0.144075</td>\n",
              "      <td>0.413263</td>\n",
              "      <td>-0.119895</td>\n",
              "      <td>0.140075</td>\n",
              "      <td>-0.981871</td>\n",
              "      <td>-0.665949</td>\n",
              "      <td>-1.457558</td>\n",
              "      <td>0.440616</td>\n",
              "      <td>-1.074499</td>\n",
              "      <td>0.159528</td>\n",
              "    </tr>\n",
              "    <tr>\n",
              "      <th>1</th>\n",
              "      <td>-0.416927</td>\n",
              "      <td>-0.487240</td>\n",
              "      <td>-0.592794</td>\n",
              "      <td>-0.272329</td>\n",
              "      <td>-0.739530</td>\n",
              "      <td>0.194082</td>\n",
              "      <td>0.366803</td>\n",
              "      <td>0.556609</td>\n",
              "      <td>-0.867024</td>\n",
              "      <td>-0.986353</td>\n",
              "      <td>-0.302794</td>\n",
              "      <td>0.440616</td>\n",
              "      <td>-0.491953</td>\n",
              "      <td>-0.101424</td>\n",
              "    </tr>\n",
              "    <tr>\n",
              "      <th>2</th>\n",
              "      <td>-0.416929</td>\n",
              "      <td>-0.487240</td>\n",
              "      <td>-0.592794</td>\n",
              "      <td>-0.272329</td>\n",
              "      <td>-0.739530</td>\n",
              "      <td>1.281446</td>\n",
              "      <td>-0.265549</td>\n",
              "      <td>0.556609</td>\n",
              "      <td>-0.867024</td>\n",
              "      <td>-0.986353</td>\n",
              "      <td>-0.302794</td>\n",
              "      <td>0.396035</td>\n",
              "      <td>-1.207532</td>\n",
              "      <td>1.322937</td>\n",
              "    </tr>\n",
              "    <tr>\n",
              "      <th>3</th>\n",
              "      <td>-0.416338</td>\n",
              "      <td>-0.487240</td>\n",
              "      <td>-1.305586</td>\n",
              "      <td>-0.272329</td>\n",
              "      <td>-0.834458</td>\n",
              "      <td>1.015298</td>\n",
              "      <td>-0.809088</td>\n",
              "      <td>1.076671</td>\n",
              "      <td>-0.752178</td>\n",
              "      <td>-1.105022</td>\n",
              "      <td>0.112920</td>\n",
              "      <td>0.415751</td>\n",
              "      <td>-1.360171</td>\n",
              "      <td>1.181589</td>\n",
              "    </tr>\n",
              "    <tr>\n",
              "      <th>4</th>\n",
              "      <td>-0.412074</td>\n",
              "      <td>-0.487240</td>\n",
              "      <td>-1.305586</td>\n",
              "      <td>-0.272329</td>\n",
              "      <td>-0.834458</td>\n",
              "      <td>1.227362</td>\n",
              "      <td>-0.510674</td>\n",
              "      <td>1.076671</td>\n",
              "      <td>-0.752178</td>\n",
              "      <td>-1.105022</td>\n",
              "      <td>0.112920</td>\n",
              "      <td>0.440616</td>\n",
              "      <td>-1.025487</td>\n",
              "      <td>1.486032</td>\n",
              "    </tr>\n",
              "  </tbody>\n",
              "</table>\n",
              "</div>\n",
              "      <button class=\"colab-df-convert\" onclick=\"convertToInteractive('df-1f9fd1b8-7aa7-475a-a43e-1145ec66c7f8')\"\n",
              "              title=\"Convert this dataframe to an interactive table.\"\n",
              "              style=\"display:none;\">\n",
              "        \n",
              "  <svg xmlns=\"http://www.w3.org/2000/svg\" height=\"24px\"viewBox=\"0 0 24 24\"\n",
              "       width=\"24px\">\n",
              "    <path d=\"M0 0h24v24H0V0z\" fill=\"none\"/>\n",
              "    <path d=\"M18.56 5.44l.94 2.06.94-2.06 2.06-.94-2.06-.94-.94-2.06-.94 2.06-2.06.94zm-11 1L8.5 8.5l.94-2.06 2.06-.94-2.06-.94L8.5 2.5l-.94 2.06-2.06.94zm10 10l.94 2.06.94-2.06 2.06-.94-2.06-.94-.94-2.06-.94 2.06-2.06.94z\"/><path d=\"M17.41 7.96l-1.37-1.37c-.4-.4-.92-.59-1.43-.59-.52 0-1.04.2-1.43.59L10.3 9.45l-7.72 7.72c-.78.78-.78 2.05 0 2.83L4 21.41c.39.39.9.59 1.41.59.51 0 1.02-.2 1.41-.59l7.78-7.78 2.81-2.81c.8-.78.8-2.07 0-2.86zM5.41 20L4 18.59l7.72-7.72 1.47 1.35L5.41 20z\"/>\n",
              "  </svg>\n",
              "      </button>\n",
              "      \n",
              "  <style>\n",
              "    .colab-df-container {\n",
              "      display:flex;\n",
              "      flex-wrap:wrap;\n",
              "      gap: 12px;\n",
              "    }\n",
              "\n",
              "    .colab-df-convert {\n",
              "      background-color: #E8F0FE;\n",
              "      border: none;\n",
              "      border-radius: 50%;\n",
              "      cursor: pointer;\n",
              "      display: none;\n",
              "      fill: #1967D2;\n",
              "      height: 32px;\n",
              "      padding: 0 0 0 0;\n",
              "      width: 32px;\n",
              "    }\n",
              "\n",
              "    .colab-df-convert:hover {\n",
              "      background-color: #E2EBFA;\n",
              "      box-shadow: 0px 1px 2px rgba(60, 64, 67, 0.3), 0px 1px 3px 1px rgba(60, 64, 67, 0.15);\n",
              "      fill: #174EA6;\n",
              "    }\n",
              "\n",
              "    [theme=dark] .colab-df-convert {\n",
              "      background-color: #3B4455;\n",
              "      fill: #D2E3FC;\n",
              "    }\n",
              "\n",
              "    [theme=dark] .colab-df-convert:hover {\n",
              "      background-color: #434B5C;\n",
              "      box-shadow: 0px 1px 3px 1px rgba(0, 0, 0, 0.15);\n",
              "      filter: drop-shadow(0px 1px 2px rgba(0, 0, 0, 0.3));\n",
              "      fill: #FFFFFF;\n",
              "    }\n",
              "  </style>\n",
              "\n",
              "      <script>\n",
              "        const buttonEl =\n",
              "          document.querySelector('#df-1f9fd1b8-7aa7-475a-a43e-1145ec66c7f8 button.colab-df-convert');\n",
              "        buttonEl.style.display =\n",
              "          google.colab.kernel.accessAllowed ? 'block' : 'none';\n",
              "\n",
              "        async function convertToInteractive(key) {\n",
              "          const element = document.querySelector('#df-1f9fd1b8-7aa7-475a-a43e-1145ec66c7f8');\n",
              "          const dataTable =\n",
              "            await google.colab.kernel.invokeFunction('convertToInteractive',\n",
              "                                                     [key], {});\n",
              "          if (!dataTable) return;\n",
              "\n",
              "          const docLinkHtml = 'Like what you see? Visit the ' +\n",
              "            '<a target=\"_blank\" href=https://colab.research.google.com/notebooks/data_table.ipynb>data table notebook</a>'\n",
              "            + ' to learn more about interactive tables.';\n",
              "          element.innerHTML = '';\n",
              "          dataTable['output_type'] = 'display_data';\n",
              "          await google.colab.output.renderOutput(dataTable, element);\n",
              "          const docLink = document.createElement('div');\n",
              "          docLink.innerHTML = docLinkHtml;\n",
              "          element.appendChild(docLink);\n",
              "        }\n",
              "      </script>\n",
              "    </div>\n",
              "  </div>\n",
              "  "
            ]
          },
          "metadata": {},
          "execution_count": 43
        }
      ]
    },
    {
      "cell_type": "code",
      "source": [
        "import matplotlib.pyplot as plt\n",
        "\n",
        "# visualize distribution of some features\n",
        "plt.title(\"Distribution of various features\")\n",
        "df_plot['CRIM'].plot(kind='kde')\n",
        "df_plot['ZN'].plot(kind='kde')\n",
        "df_plot['INDUS'].plot(kind='kde')\n",
        "\n",
        "plt.legend()\n",
        "plt.show()"
      ],
      "metadata": {
        "colab": {
          "base_uri": "https://localhost:8080/",
          "height": 281
        },
        "id": "6qAJGT_nRogu",
        "outputId": "59b03ff5-1182-48cf-b044-6ec3e5732cb4"
      },
      "execution_count": 44,
      "outputs": [
        {
          "output_type": "display_data",
          "data": {
            "text/plain": [
              "<Figure size 432x288 with 1 Axes>"
            ],
            "image/png": "[encoded data removed]"
          },
          "metadata": {
            "needs_background": "light"
          }
        }
      ]
    },
    {
      "cell_type": "markdown",
      "source": [
        "## Data Preprocessing\n",
        "\n",
        "Feature selections, feature engineering, etc."
      ],
      "metadata": {
        "id": "hPhg3vkISSg1"
      }
    },
    {
      "cell_type": "code",
      "source": [
        "# check for NaN values\n",
        "# examine and replace missing values \n",
        "\n",
        "print(df.isnull().values.any())"
      ],
      "metadata": {
        "colab": {
          "base_uri": "https://localhost:8080/"
        },
        "id": "Ft9BNoD7Sr4c",
        "outputId": "2cf776bf-afec-4137-e036-ef6ce1b9da2c"
      },
      "execution_count": 45,
      "outputs": [
        {
          "output_type": "stream",
          "name": "stdout",
          "text": [
            "False\n"
          ]
        }
      ]
    },
    {
      "cell_type": "code",
      "source": [
        "# Split dataset to obtain input features X and output y\n",
        "X = df.drop(['MEDV'], axis=1)  \n",
        "y = df['MEDV']"
      ],
      "metadata": {
        "id": "de0krYxLTSTo"
      },
      "execution_count": 46,
      "outputs": []
    },
    {
      "cell_type": "code",
      "source": [
        "from sklearn.model_selection import train_test_split\n",
        "x_train, x_val, y_train, y_val = train_test_split(X, y, test_size=0.2, random_state=42)"
      ],
      "metadata": {
        "id": "ezKD3aj_TxU1"
      },
      "execution_count": 47,
      "outputs": []
    },
    {
      "cell_type": "code",
      "source": [
        "# standardize training data \n",
        "mean = X.mean()\n",
        "std = X.std()\n",
        "\n",
        "x_train = x_train - mean\n",
        "x_train = x_train/std\n",
        "\n",
        "# standardize validation data\n",
        "x_val = x_val - mean\n",
        "x_val = x_val/std\n",
        "\n",
        "# NOTE: you don't have to standardize y, for interpretability reasons"
      ],
      "metadata": {
        "id": "z8S0ZZ-gRFCc"
      },
      "execution_count": 48,
      "outputs": []
    },
    {
      "cell_type": "markdown",
      "source": [
        "## Building our Neural Network"
      ],
      "metadata": {
        "id": "_GqzEwgTUuck"
      }
    },
    {
      "cell_type": "code",
      "source": [
        "from tensorflow import keras\n",
        "from tensorflow.keras import layers\n",
        "\n",
        "def build_model():\n",
        "  # Here we have sequentially: 1 input layer | 1 hidden layer | and 1 output layer\n",
        "  model = keras.Sequential([\n",
        "      layers.Dense(64, activation='relu'),\n",
        "      layers.Dense(64, activation='relu'),\n",
        "      layers.Dense(1) # 1 because we want to return a single value with no transformations (no relu)\n",
        "  ])\n",
        "\n",
        "# initialize optimizer, loss, metrics\n",
        "  model.compile(optimizer='adam',\n",
        "                loss='mse',\n",
        "                metrics=['mae'] # using mean absolute error\n",
        "                )\n",
        "  \n",
        "  return model"
      ],
      "metadata": {
        "id": "96tMgzk-Upje"
      },
      "execution_count": 49,
      "outputs": []
    },
    {
      "cell_type": "code",
      "source": [
        "model = build_model()\n",
        "\n",
        "history = model.fit(x_train, y_train, epochs=100, batch_size=16, validation_data=(x_val, y_val))"
      ],
      "metadata": {
        "colab": {
          "base_uri": "https://localhost:8080/"
        },
        "id": "HK7TaxhsVXkK",
        "outputId": "a56991ea-cea8-4479-e293-f9ba6296d6c2"
      },
      "execution_count": 50,
      "outputs": [
        {
          "output_type": "stream",
          "name": "stdout",
          "text": [
            "Epoch 1/100\n",
            "26/26 [==============================] - 1s 19ms/step - loss: 546.7239 - mae: 21.5262 - val_loss: 426.8372 - val_mae: 18.9921\n",
            "Epoch 2/100\n",
            "26/26 [==============================] - 0s 6ms/step - loss: 411.5181 - mae: 18.2784 - val_loss: 258.4039 - val_mae: 14.4074\n",
            "Epoch 3/100\n",
            "26/26 [==============================] - 0s 6ms/step - loss: 204.1581 - mae: 11.7814 - val_loss: 85.2038 - val_mae: 7.4532\n",
            "Epoch 4/100\n",
            "26/26 [==============================] - 0s 6ms/step - loss: 84.0810 - mae: 7.0257 - val_loss: 46.1850 - val_mae: 4.9939\n",
            "Epoch 5/100\n",
            "26/26 [==============================] - 0s 6ms/step - loss: 47.4194 - mae: 5.1899 - val_loss: 32.5409 - val_mae: 3.9751\n",
            "Epoch 6/100\n",
            "26/26 [==============================] - 0s 7ms/step - loss: 32.2936 - mae: 4.1683 - val_loss: 27.8785 - val_mae: 3.5465\n",
            "Epoch 7/100\n",
            "26/26 [==============================] - 0s 7ms/step - loss: 26.5550 - mae: 3.6900 - val_loss: 25.1113 - val_mae: 3.3388\n",
            "Epoch 8/100\n",
            "26/26 [==============================] - 0s 6ms/step - loss: 23.8558 - mae: 3.5374 - val_loss: 22.7787 - val_mae: 3.2419\n",
            "Epoch 9/100\n",
            "26/26 [==============================] - 0s 7ms/step - loss: 21.5578 - mae: 3.3367 - val_loss: 21.3827 - val_mae: 3.0502\n",
            "Epoch 10/100\n",
            "26/26 [==============================] - 0s 7ms/step - loss: 20.1596 - mae: 3.2547 - val_loss: 20.2132 - val_mae: 3.0137\n",
            "Epoch 11/100\n",
            "26/26 [==============================] - 0s 9ms/step - loss: 18.6850 - mae: 3.0915 - val_loss: 19.2869 - val_mae: 2.9003\n",
            "Epoch 12/100\n",
            "26/26 [==============================] - 0s 5ms/step - loss: 17.6070 - mae: 3.0268 - val_loss: 18.3226 - val_mae: 2.8534\n",
            "Epoch 13/100\n",
            "26/26 [==============================] - 0s 5ms/step - loss: 16.6194 - mae: 2.9539 - val_loss: 17.5313 - val_mae: 2.7345\n",
            "Epoch 14/100\n",
            "26/26 [==============================] - 0s 4ms/step - loss: 15.9047 - mae: 2.8808 - val_loss: 16.9749 - val_mae: 2.7090\n",
            "Epoch 15/100\n",
            "26/26 [==============================] - 0s 4ms/step - loss: 15.5654 - mae: 2.8686 - val_loss: 16.6858 - val_mae: 2.7402\n",
            "Epoch 16/100\n",
            "26/26 [==============================] - 0s 5ms/step - loss: 14.4295 - mae: 2.7582 - val_loss: 16.0109 - val_mae: 2.6483\n",
            "Epoch 17/100\n",
            "26/26 [==============================] - 0s 5ms/step - loss: 14.1525 - mae: 2.6927 - val_loss: 15.5202 - val_mae: 2.5896\n",
            "Epoch 18/100\n",
            "26/26 [==============================] - 0s 3ms/step - loss: 13.7412 - mae: 2.7083 - val_loss: 15.2019 - val_mae: 2.5863\n",
            "Epoch 19/100\n",
            "26/26 [==============================] - 0s 4ms/step - loss: 13.1721 - mae: 2.6208 - val_loss: 15.0118 - val_mae: 2.5436\n",
            "Epoch 20/100\n",
            "26/26 [==============================] - 0s 4ms/step - loss: 13.0067 - mae: 2.5855 - val_loss: 14.7068 - val_mae: 2.5905\n",
            "Epoch 21/100\n",
            "26/26 [==============================] - 0s 4ms/step - loss: 12.5509 - mae: 2.5666 - val_loss: 14.5317 - val_mae: 2.5497\n",
            "Epoch 22/100\n",
            "26/26 [==============================] - 0s 5ms/step - loss: 12.3360 - mae: 2.5286 - val_loss: 14.2913 - val_mae: 2.5292\n",
            "Epoch 23/100\n",
            "26/26 [==============================] - 0s 4ms/step - loss: 12.0344 - mae: 2.5054 - val_loss: 14.3959 - val_mae: 2.5857\n",
            "Epoch 24/100\n",
            "26/26 [==============================] - 0s 4ms/step - loss: 11.8930 - mae: 2.5120 - val_loss: 14.0635 - val_mae: 2.5186\n",
            "Epoch 25/100\n",
            "26/26 [==============================] - 0s 4ms/step - loss: 11.5992 - mae: 2.4459 - val_loss: 13.7208 - val_mae: 2.4885\n",
            "Epoch 26/100\n",
            "26/26 [==============================] - 0s 5ms/step - loss: 11.4091 - mae: 2.4387 - val_loss: 13.5872 - val_mae: 2.4957\n",
            "Epoch 27/100\n",
            "26/26 [==============================] - 0s 5ms/step - loss: 11.1440 - mae: 2.4166 - val_loss: 13.6235 - val_mae: 2.4858\n",
            "Epoch 28/100\n",
            "26/26 [==============================] - 0s 4ms/step - loss: 11.0404 - mae: 2.3945 - val_loss: 13.4880 - val_mae: 2.5143\n",
            "Epoch 29/100\n",
            "26/26 [==============================] - 0s 5ms/step - loss: 10.9551 - mae: 2.4051 - val_loss: 13.1991 - val_mae: 2.4499\n",
            "Epoch 30/100\n",
            "26/26 [==============================] - 0s 4ms/step - loss: 10.7644 - mae: 2.3544 - val_loss: 13.1599 - val_mae: 2.4823\n",
            "Epoch 31/100\n",
            "26/26 [==============================] - 0s 6ms/step - loss: 10.6409 - mae: 2.3861 - val_loss: 13.3044 - val_mae: 2.4817\n",
            "Epoch 32/100\n",
            "26/26 [==============================] - 0s 4ms/step - loss: 10.4173 - mae: 2.3135 - val_loss: 12.9891 - val_mae: 2.4678\n",
            "Epoch 33/100\n",
            "26/26 [==============================] - 0s 4ms/step - loss: 10.2846 - mae: 2.3544 - val_loss: 12.9562 - val_mae: 2.4589\n",
            "Epoch 34/100\n",
            "26/26 [==============================] - 0s 4ms/step - loss: 10.2219 - mae: 2.3046 - val_loss: 12.8665 - val_mae: 2.4633\n",
            "Epoch 35/100\n",
            "26/26 [==============================] - 0s 5ms/step - loss: 10.1530 - mae: 2.3086 - val_loss: 12.7439 - val_mae: 2.4426\n",
            "Epoch 36/100\n",
            "26/26 [==============================] - 0s 5ms/step - loss: 9.9115 - mae: 2.2783 - val_loss: 12.7302 - val_mae: 2.4511\n",
            "Epoch 37/100\n",
            "26/26 [==============================] - 0s 4ms/step - loss: 9.8691 - mae: 2.2852 - val_loss: 12.6658 - val_mae: 2.4102\n",
            "Epoch 38/100\n",
            "26/26 [==============================] - 0s 4ms/step - loss: 9.7054 - mae: 2.2479 - val_loss: 12.3944 - val_mae: 2.3927\n",
            "Epoch 39/100\n",
            "26/26 [==============================] - 0s 4ms/step - loss: 9.5135 - mae: 2.2187 - val_loss: 12.4418 - val_mae: 2.4150\n",
            "Epoch 40/100\n",
            "26/26 [==============================] - 0s 4ms/step - loss: 9.4904 - mae: 2.2343 - val_loss: 12.3643 - val_mae: 2.4095\n",
            "Epoch 41/100\n",
            "26/26 [==============================] - 0s 4ms/step - loss: 9.4675 - mae: 2.2427 - val_loss: 12.4592 - val_mae: 2.4339\n",
            "Epoch 42/100\n",
            "26/26 [==============================] - 0s 4ms/step - loss: 9.3598 - mae: 2.2327 - val_loss: 12.3979 - val_mae: 2.3910\n",
            "Epoch 43/100\n",
            "26/26 [==============================] - 0s 3ms/step - loss: 9.3101 - mae: 2.2151 - val_loss: 12.1215 - val_mae: 2.3716\n",
            "Epoch 44/100\n",
            "26/26 [==============================] - 0s 4ms/step - loss: 9.0339 - mae: 2.1673 - val_loss: 12.0992 - val_mae: 2.3610\n",
            "Epoch 45/100\n",
            "26/26 [==============================] - 0s 5ms/step - loss: 9.0115 - mae: 2.1851 - val_loss: 11.9035 - val_mae: 2.3177\n",
            "Epoch 46/100\n",
            "26/26 [==============================] - 0s 4ms/step - loss: 9.0519 - mae: 2.1864 - val_loss: 12.0609 - val_mae: 2.3904\n",
            "Epoch 47/100\n",
            "26/26 [==============================] - 0s 5ms/step - loss: 8.9369 - mae: 2.1822 - val_loss: 11.9319 - val_mae: 2.3635\n",
            "Epoch 48/100\n",
            "26/26 [==============================] - 0s 5ms/step - loss: 8.7630 - mae: 2.1564 - val_loss: 11.7778 - val_mae: 2.3231\n",
            "Epoch 49/100\n",
            "26/26 [==============================] - 0s 4ms/step - loss: 8.5897 - mae: 2.1298 - val_loss: 11.7937 - val_mae: 2.3346\n",
            "Epoch 50/100\n",
            "26/26 [==============================] - 0s 4ms/step - loss: 8.7710 - mae: 2.1676 - val_loss: 11.9888 - val_mae: 2.3411\n",
            "Epoch 51/100\n",
            "26/26 [==============================] - 0s 5ms/step - loss: 8.3752 - mae: 2.1181 - val_loss: 11.7250 - val_mae: 2.3322\n",
            "Epoch 52/100\n",
            "26/26 [==============================] - 0s 5ms/step - loss: 8.3981 - mae: 2.1022 - val_loss: 11.7632 - val_mae: 2.3658\n",
            "Epoch 53/100\n",
            "26/26 [==============================] - 0s 5ms/step - loss: 8.2777 - mae: 2.1007 - val_loss: 11.5331 - val_mae: 2.2919\n",
            "Epoch 54/100\n",
            "26/26 [==============================] - 0s 4ms/step - loss: 8.3695 - mae: 2.1235 - val_loss: 11.5681 - val_mae: 2.2939\n",
            "Epoch 55/100\n",
            "26/26 [==============================] - 0s 5ms/step - loss: 8.1565 - mae: 2.1005 - val_loss: 11.5007 - val_mae: 2.2995\n",
            "Epoch 56/100\n",
            "26/26 [==============================] - 0s 6ms/step - loss: 8.0454 - mae: 2.0674 - val_loss: 11.5427 - val_mae: 2.3000\n",
            "Epoch 57/100\n",
            "26/26 [==============================] - 0s 4ms/step - loss: 7.8901 - mae: 2.0735 - val_loss: 11.5807 - val_mae: 2.2936\n",
            "Epoch 58/100\n",
            "26/26 [==============================] - 0s 4ms/step - loss: 7.9305 - mae: 2.0689 - val_loss: 11.8069 - val_mae: 2.3788\n",
            "Epoch 59/100\n",
            "26/26 [==============================] - 0s 5ms/step - loss: 7.8132 - mae: 2.0523 - val_loss: 11.3835 - val_mae: 2.2601\n",
            "Epoch 60/100\n",
            "26/26 [==============================] - 0s 4ms/step - loss: 7.8081 - mae: 2.0571 - val_loss: 11.3425 - val_mae: 2.2862\n",
            "Epoch 61/100\n",
            "26/26 [==============================] - 0s 5ms/step - loss: 7.8350 - mae: 2.0621 - val_loss: 11.3184 - val_mae: 2.2877\n",
            "Epoch 62/100\n",
            "26/26 [==============================] - 0s 4ms/step - loss: 7.4503 - mae: 2.0072 - val_loss: 11.1527 - val_mae: 2.2563\n",
            "Epoch 63/100\n",
            "26/26 [==============================] - 0s 4ms/step - loss: 7.6657 - mae: 2.0534 - val_loss: 11.1594 - val_mae: 2.2307\n",
            "Epoch 64/100\n",
            "26/26 [==============================] - 0s 4ms/step - loss: 7.4197 - mae: 2.0083 - val_loss: 11.2315 - val_mae: 2.2978\n",
            "Epoch 65/100\n",
            "26/26 [==============================] - 0s 4ms/step - loss: 7.3856 - mae: 1.9955 - val_loss: 11.0301 - val_mae: 2.2598\n",
            "Epoch 66/100\n",
            "26/26 [==============================] - 0s 4ms/step - loss: 7.3127 - mae: 2.0064 - val_loss: 11.0811 - val_mae: 2.2893\n",
            "Epoch 67/100\n",
            "26/26 [==============================] - 0s 3ms/step - loss: 7.1764 - mae: 2.0095 - val_loss: 11.0880 - val_mae: 2.2637\n",
            "Epoch 68/100\n",
            "26/26 [==============================] - 0s 4ms/step - loss: 7.1014 - mae: 1.9748 - val_loss: 10.9673 - val_mae: 2.2736\n",
            "Epoch 69/100\n",
            "26/26 [==============================] - 0s 5ms/step - loss: 7.2474 - mae: 1.9769 - val_loss: 11.0520 - val_mae: 2.2873\n",
            "Epoch 70/100\n",
            "26/26 [==============================] - 0s 5ms/step - loss: 7.1074 - mae: 1.9875 - val_loss: 10.9033 - val_mae: 2.2484\n",
            "Epoch 71/100\n",
            "26/26 [==============================] - 0s 4ms/step - loss: 6.9437 - mae: 1.9376 - val_loss: 10.7982 - val_mae: 2.2291\n",
            "Epoch 72/100\n",
            "26/26 [==============================] - 0s 4ms/step - loss: 6.9406 - mae: 1.9430 - val_loss: 10.9883 - val_mae: 2.2427\n",
            "Epoch 73/100\n",
            "26/26 [==============================] - 0s 5ms/step - loss: 6.7770 - mae: 1.9334 - val_loss: 10.9557 - val_mae: 2.2875\n",
            "Epoch 74/100\n",
            "26/26 [==============================] - 0s 4ms/step - loss: 6.8543 - mae: 1.9532 - val_loss: 10.7443 - val_mae: 2.2212\n",
            "Epoch 75/100\n",
            "26/26 [==============================] - 0s 4ms/step - loss: 6.6783 - mae: 1.9095 - val_loss: 10.7384 - val_mae: 2.2285\n",
            "Epoch 76/100\n",
            "26/26 [==============================] - 0s 5ms/step - loss: 6.7569 - mae: 1.9457 - val_loss: 11.0292 - val_mae: 2.2672\n",
            "Epoch 77/100\n",
            "26/26 [==============================] - 0s 4ms/step - loss: 6.7902 - mae: 1.9615 - val_loss: 10.8501 - val_mae: 2.2685\n",
            "Epoch 78/100\n",
            "26/26 [==============================] - 0s 4ms/step - loss: 6.4949 - mae: 1.8831 - val_loss: 10.7038 - val_mae: 2.2269\n",
            "Epoch 79/100\n",
            "26/26 [==============================] - 0s 5ms/step - loss: 6.4272 - mae: 1.8733 - val_loss: 10.6841 - val_mae: 2.2494\n",
            "Epoch 80/100\n",
            "26/26 [==============================] - 0s 4ms/step - loss: 6.5012 - mae: 1.8971 - val_loss: 10.8146 - val_mae: 2.1997\n",
            "Epoch 81/100\n",
            "26/26 [==============================] - 0s 5ms/step - loss: 6.3285 - mae: 1.8725 - val_loss: 10.4936 - val_mae: 2.1871\n",
            "Epoch 82/100\n",
            "26/26 [==============================] - 0s 4ms/step - loss: 6.0735 - mae: 1.8244 - val_loss: 10.6186 - val_mae: 2.2271\n",
            "Epoch 83/100\n",
            "26/26 [==============================] - 0s 4ms/step - loss: 6.3482 - mae: 1.8859 - val_loss: 11.0323 - val_mae: 2.2757\n",
            "Epoch 84/100\n",
            "26/26 [==============================] - 0s 4ms/step - loss: 6.2043 - mae: 1.8643 - val_loss: 10.6530 - val_mae: 2.2300\n",
            "Epoch 85/100\n",
            "26/26 [==============================] - 0s 5ms/step - loss: 6.2171 - mae: 1.8313 - val_loss: 10.5033 - val_mae: 2.2323\n",
            "Epoch 86/100\n",
            "26/26 [==============================] - 0s 4ms/step - loss: 6.3368 - mae: 1.8689 - val_loss: 10.5001 - val_mae: 2.2289\n",
            "Epoch 87/100\n",
            "26/26 [==============================] - 0s 5ms/step - loss: 5.9181 - mae: 1.8175 - val_loss: 10.7515 - val_mae: 2.2694\n",
            "Epoch 88/100\n",
            "26/26 [==============================] - 0s 4ms/step - loss: 6.0232 - mae: 1.8391 - val_loss: 10.6557 - val_mae: 2.2732\n",
            "Epoch 89/100\n",
            "26/26 [==============================] - 0s 4ms/step - loss: 5.8969 - mae: 1.8197 - val_loss: 10.4676 - val_mae: 2.2058\n",
            "Epoch 90/100\n",
            "26/26 [==============================] - 0s 5ms/step - loss: 5.9707 - mae: 1.8109 - val_loss: 10.4809 - val_mae: 2.1968\n",
            "Epoch 91/100\n",
            "26/26 [==============================] - 0s 4ms/step - loss: 5.8396 - mae: 1.8233 - val_loss: 10.4106 - val_mae: 2.2108\n",
            "Epoch 92/100\n",
            "26/26 [==============================] - 0s 4ms/step - loss: 5.6662 - mae: 1.7639 - val_loss: 10.5172 - val_mae: 2.2412\n",
            "Epoch 93/100\n",
            "26/26 [==============================] - 0s 4ms/step - loss: 5.6757 - mae: 1.7747 - val_loss: 10.3722 - val_mae: 2.1839\n",
            "Epoch 94/100\n",
            "26/26 [==============================] - 0s 4ms/step - loss: 5.5964 - mae: 1.7647 - val_loss: 10.2363 - val_mae: 2.1949\n",
            "Epoch 95/100\n",
            "26/26 [==============================] - 0s 6ms/step - loss: 5.8123 - mae: 1.7844 - val_loss: 10.2397 - val_mae: 2.1953\n",
            "Epoch 96/100\n",
            "26/26 [==============================] - 0s 7ms/step - loss: 5.5685 - mae: 1.7224 - val_loss: 10.4150 - val_mae: 2.2129\n",
            "Epoch 97/100\n",
            "26/26 [==============================] - 0s 6ms/step - loss: 5.4832 - mae: 1.7634 - val_loss: 10.2334 - val_mae: 2.1695\n",
            "Epoch 98/100\n",
            "26/26 [==============================] - 0s 6ms/step - loss: 5.4851 - mae: 1.7605 - val_loss: 10.2583 - val_mae: 2.2084\n",
            "Epoch 99/100\n",
            "26/26 [==============================] - 0s 6ms/step - loss: 5.4872 - mae: 1.7451 - val_loss: 10.1538 - val_mae: 2.1916\n",
            "Epoch 100/100\n",
            "26/26 [==============================] - 0s 5ms/step - loss: 5.3276 - mae: 1.7165 - val_loss: 10.3825 - val_mae: 2.1953\n"
          ]
        }
      ]
    },
    {
      "cell_type": "code",
      "source": [
        "# Plotting our loss over time\n",
        "plt.figure(figsize=(16, 8))\n",
        "plt.plot(history.history['loss'], label='train')\n",
        "plt.plot(history.history['val_loss'], label='val')\n",
        "plt.title('model loss')\n",
        "plt.ylabel('loss')\n",
        "plt.xlabel('epoch')\n",
        "plt.legend()"
      ],
      "metadata": {
        "colab": {
          "base_uri": "https://localhost:8080/",
          "height": 531
        },
        "id": "SwBZrZrgYlAv",
        "outputId": "2d3a6fa8-33f7-458a-88b5-34d83b4302a0"
      },
      "execution_count": 51,
      "outputs": [
        {
          "output_type": "execute_result",
          "data": {
            "text/plain": [
              "<matplotlib.legend.Legend at 0x7f70ebbcea60>"
            ]
          },
          "metadata": {},
          "execution_count": 51
        },
        {
          "output_type": "display_data",
          "data": {
            "text/plain": [
              "<Figure size 1152x576 with 1 Axes>"
            ],
            "image/png": "[encoded data removed]"
          },
          "metadata": {
            "needs_background": "light"
          }
        }
      ]
    },
    {
      "cell_type": "markdown",
      "source": [
        "## Model \"deployment\""
      ],
      "metadata": {
        "id": "E-MUaB3FYXFU"
      }
    },
    {
      "cell_type": "code",
      "source": [
        "# predictions, we are predicting on validation dataset, but in the real world, your model will try to predict the test dataset\n",
        "predictions = model.predict(x_val)"
      ],
      "metadata": {
        "colab": {
          "base_uri": "https://localhost:8080/"
        },
        "id": "sxDKCa6xXbOy",
        "outputId": "fc5a4b97-b1fd-4738-ffd3-82fa38213cf6"
      },
      "execution_count": 52,
      "outputs": [
        {
          "output_type": "stream",
          "name": "stdout",
          "text": [
            "4/4 [==============================] - 0s 5ms/step\n"
          ]
        }
      ]
    },
    {
      "cell_type": "code",
      "source": [
        "print(predictions[:5]) # first 5 predictions\n",
        "print(y_val[:5]) # first 5 ground truth labels"
      ],
      "metadata": {
        "colab": {
          "base_uri": "https://localhost:8080/"
        },
        "id": "bIYSXeFSXls2",
        "outputId": "9256034b-2841-4edf-d667-67c8172db33f"
      },
      "execution_count": 53,
      "outputs": [
        {
          "output_type": "stream",
          "name": "stdout",
          "text": [
            "[[26.305897]\n",
            " [33.5984  ]\n",
            " [16.327684]\n",
            " [24.703905]\n",
            " [15.968345]]\n",
            "173    23.6\n",
            "274    32.4\n",
            "491    13.6\n",
            "72     22.8\n",
            "452    16.1\n",
            "Name: MEDV, dtype: float64\n"
          ]
        }
      ]
    },
    {
      "cell_type": "code",
      "source": [
        "fig, ax = plt.subplots()\n",
        "ax.scatter(y_val, predictions)\n",
        "ax.plot([y_val.min(), y_val.max()], [y_val.min(), y_val.max()], 'k--', lw=4)\n",
        "ax.set_xlabel(\"Measured\")\n",
        "ax.set_ylabel(\"Predicted\")\n",
        "plt.show()"
      ],
      "metadata": {
        "colab": {
          "base_uri": "https://localhost:8080/",
          "height": 279
        },
        "id": "SacUE2JkX5FY",
        "outputId": "a62ecfb7-e372-4c1f-b707-d7dbafdb01fe"
      },
      "execution_count": 54,
      "outputs": [
        {
          "output_type": "display_data",
          "data": {
            "text/plain": [
              "<Figure size 432x288 with 1 Axes>"
            ],
            "image/png": "[encoded data removed]"
          },
          "metadata": {
            "needs_background": "light"
          }
        }
      ]
    },
    {
      "cell_type": "markdown",
      "source": [
        "Note: Since we trained the model on standardized data, standardizing testing data (using mean and std from the **training dataset**) can yield better results."
      ],
      "metadata": {
        "id": "98W2LUh6ESlm"
      }
    }
  ]
}